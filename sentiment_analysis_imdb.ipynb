{
 "cells": [
  {
   "cell_type": "markdown",
   "metadata": {},
   "source": [
    "# Analise de Sentimentos - Ingles x Portugues \n",
    "### Utilizando a API de Natural Language do Google\n",
    "---"
   ]
  },
  {
   "cell_type": "markdown",
   "metadata": {},
   "source": [
    "### Introduçāo\n",
    "\n",
    "A análise de sentimentos através do **Processamento de Linguagem Natural (Natural Language Processing — NLP)**, se tornou um tema muito abordado no mundo acadêmico e corporativo, muito devido ao crescente número de aplicações práticas, tais como:\n",
    "\n",
    "- Identificar se uma avaliação feita em um livro na Amazon foi positiva ou negativa;\n",
    "- Identificar sintomas de depressão em pessoas a partir de suas postagens em redes sociais como Facebook ou Twitter;\n",
    "- Encontrar potenciais eleitores favoráveis a um determinado candidato.\n",
    "\n",
    "Muitos métodos e ferramentas têm sido desenvolvidos para a detecção de sentimentos em diversos ambientes e casos. Contudo, grande parte dos recursos para tais análises estão disponibilizados apenas na língua inglesa, considerando que esta é a língua predominante no mundo. \n",
    "Entre as diversas ferramentas para tais análises a **API de Natural Language do Google** tem se destacado como uma ótima opção por possuir suporte a vários [idiomas](https://cloud-dot-devsite-v2-prod.appspot.com/natural-language/docs/languages), entre eles o portugues.\n",
    "\n",
    "<center><img src=\"googleapi.png\" width=\"400\" height=\"200\" /></center> ![](googleapi.png)"
   ]
  },
  {
   "cell_type": "markdown",
   "metadata": {},
   "source": [
    "### Sobre este estudo\n",
    "\n",
    "Recentemente utilizei pela primeira vez esta API para um trabalho da pos-graduacao. Meu colega de equipe sugeriu utilizar como base para o trabalho, o renomado Dataset do **IMDB** de reviews de filmes, este dataset originalmente se encontra apenas em inglês mas um usuário do **Kaggle** (Plataforma para projetos e competições de Data Science) traduziu o dataset para português e o dispos na sua página pessoal da plataforma [(Luís Fred)](https://www.kaggle.com/luisfredgs/imdb-ptbr). \n",
    "\n",
    "Segundo o próprio Luís a tradução foi feita automaticamente, usando uma ferramenta de tradução apropriada que apesar de não citada fez um trabalho muito bom. A título de comparação utilizei outra API do Google **(Cloud Translation API)** para traduzir algumas da reviews, e pude verificar que os resultados também possuíam uma ótima qualidade e grande similaridade apesar de não serem totalmente iguais.\n",
    "\n",
    "O trabalho desenvolvido para a pós possuía outro foco e utilizou-se apenas dos dados traduzidos em português, mas me fez pensar se haveria diferença na classificação do sentimento, utilizando exatamente o mesmo texto apenas com idiomas diferentes. \n",
    "\n",
    "**Neste notebook, iremos verificar e analisar as diferenças e similaridades das duas versões de textos através da API de Natural Language do Google.**"
   ]
  },
  {
   "cell_type": "markdown",
   "metadata": {},
   "source": [
    "## Importando Blibliotecas e *Dataset*"
   ]
  },
  {
   "cell_type": "code",
   "execution_count": 435,
   "metadata": {
    "ExecuteTime": {
     "end_time": "2020-01-17T23:29:52.793284Z",
     "start_time": "2020-01-17T23:29:52.771020Z"
    },
    "colab": {
     "base_uri": "https://localhost:8080/",
     "height": 408
    },
    "colab_type": "code",
    "id": "Z_xN9zQVVdrN",
    "outputId": "f892917d-0bd7-4be0-c44a-c93dd8d9467e"
   },
   "outputs": [
    {
     "data": {
      "text/html": [
       "        <script type=\"text/javascript\">\n",
       "        window.PlotlyConfig = {MathJaxConfig: 'local'};\n",
       "        if (window.MathJax) {MathJax.Hub.Config({SVG: {font: \"STIX-Web\"}});}\n",
       "        if (typeof require !== 'undefined') {\n",
       "        require.undef(\"plotly\");\n",
       "        requirejs.config({\n",
       "            paths: {\n",
       "                'plotly': ['https://cdn.plot.ly/plotly-latest.min']\n",
       "            }\n",
       "        });\n",
       "        require(['plotly'], function(Plotly) {\n",
       "            window._Plotly = Plotly;\n",
       "        });\n",
       "        }\n",
       "        </script>\n",
       "        "
      ]
     },
     "metadata": {},
     "output_type": "display_data"
    }
   ],
   "source": [
    "# importar os pacotes necessários\n",
    "import pandas as pd\n",
    "import numpy as np\n",
    "\n",
    "# Bibliotecas para analise de sentimento\n",
    "from google.cloud import language_v1\n",
    "from google.cloud.language_v1 import enums\n",
    "import six\n",
    "\n",
    "# Bibliotecas para processamento em paralelo\n",
    "from joblib import Parallel, delayed\n",
    "import multiprocessing\n",
    "\n",
    "# Bibliotecas para visualizacao de graficos\n",
    "import plotly.graph_objs as go\n",
    "from plotly.subplots import make_subplots\n",
    "import seaborn as sns\n",
    "import matplotlib.pyplot  as plt\n",
    "%matplotlib inline\n",
    "py.init_notebook_mode(connected=True)"
   ]
  },
  {
   "cell_type": "code",
   "execution_count": 436,
   "metadata": {},
   "outputs": [
    {
     "data": {
      "text/html": [
       "<div>\n",
       "<style scoped>\n",
       "    .dataframe tbody tr th:only-of-type {\n",
       "        vertical-align: middle;\n",
       "    }\n",
       "\n",
       "    .dataframe tbody tr th {\n",
       "        vertical-align: top;\n",
       "    }\n",
       "\n",
       "    .dataframe thead th {\n",
       "        text-align: right;\n",
       "    }\n",
       "</style>\n",
       "<table border=\"1\" class=\"dataframe\">\n",
       "  <thead>\n",
       "    <tr style=\"text-align: right;\">\n",
       "      <th></th>\n",
       "      <th>id</th>\n",
       "      <th>text_en</th>\n",
       "      <th>text_pt</th>\n",
       "      <th>sentiment</th>\n",
       "    </tr>\n",
       "  </thead>\n",
       "  <tbody>\n",
       "    <tr>\n",
       "      <th>0</th>\n",
       "      <td>1</td>\n",
       "      <td>Once again Mr. Costner has dragged out a movie...</td>\n",
       "      <td>Mais uma vez, o Sr. Costner arrumou um filme p...</td>\n",
       "      <td>neg</td>\n",
       "    </tr>\n",
       "    <tr>\n",
       "      <th>1</th>\n",
       "      <td>2</td>\n",
       "      <td>This is an example of why the majority of acti...</td>\n",
       "      <td>Este é um exemplo do motivo pelo qual a maiori...</td>\n",
       "      <td>neg</td>\n",
       "    </tr>\n",
       "    <tr>\n",
       "      <th>2</th>\n",
       "      <td>3</td>\n",
       "      <td>First of all I hate those moronic rappers, who...</td>\n",
       "      <td>Primeiro de tudo eu odeio esses raps imbecis, ...</td>\n",
       "      <td>neg</td>\n",
       "    </tr>\n",
       "    <tr>\n",
       "      <th>3</th>\n",
       "      <td>4</td>\n",
       "      <td>Not even the Beatles could write songs everyon...</td>\n",
       "      <td>Nem mesmo os Beatles puderam escrever músicas ...</td>\n",
       "      <td>neg</td>\n",
       "    </tr>\n",
       "    <tr>\n",
       "      <th>4</th>\n",
       "      <td>5</td>\n",
       "      <td>Brass pictures movies is not a fitting word fo...</td>\n",
       "      <td>Filmes de fotos de latão não é uma palavra apr...</td>\n",
       "      <td>neg</td>\n",
       "    </tr>\n",
       "  </tbody>\n",
       "</table>\n",
       "</div>"
      ],
      "text/plain": [
       "   id                                            text_en  \\\n",
       "0   1  Once again Mr. Costner has dragged out a movie...   \n",
       "1   2  This is an example of why the majority of acti...   \n",
       "2   3  First of all I hate those moronic rappers, who...   \n",
       "3   4  Not even the Beatles could write songs everyon...   \n",
       "4   5  Brass pictures movies is not a fitting word fo...   \n",
       "\n",
       "                                             text_pt sentiment  \n",
       "0  Mais uma vez, o Sr. Costner arrumou um filme p...       neg  \n",
       "1  Este é um exemplo do motivo pelo qual a maiori...       neg  \n",
       "2  Primeiro de tudo eu odeio esses raps imbecis, ...       neg  \n",
       "3  Nem mesmo os Beatles puderam escrever músicas ...       neg  \n",
       "4  Filmes de fotos de latão não é uma palavra apr...       neg  "
      ]
     },
     "execution_count": 436,
     "metadata": {},
     "output_type": "execute_result"
    }
   ],
   "source": [
    "# importar o dataset em csv \n",
    "df = pd.read_csv('imdb-pt.csv', sep=',', error_bad_lines=False)\n",
    "# ver as 5 primeiras entradas\n",
    "df.head()"
   ]
  },
  {
   "cell_type": "markdown",
   "metadata": {},
   "source": [
    "## Amostra \n",
    "\n",
    "O uso da API Natural Language é pago e o preço é calculado de acordo com o número de “unidades” usadas mensalmente. \n",
    "Cada documento, no nosso caso review enviado para a API para análise conta como pelo menos uma unidade. Documentos com mais de 1.000 caracteres unicode (incluindo caractere de espaço em branco e todos os de marcação, como tags HTML ou XML) são considerados como várias unidades. Considera-se uma unidade a cada 1.000 caracteres.\n",
    "\n",
    "Por exemplo, se você enviar três solicitações à API Natural Language com 800, 1.500 e 600 caracteres respectivamente, você será cobrado por quatro unidades: uma para a primeira solicitação (800), duas para a segunda solicitação (1.500) e uma para a terceira solicitação (600).\n"
   ]
  },
  {
   "cell_type": "markdown",
   "metadata": {},
   "source": [
    "### <center>Preço Mensal (US\\$)</center>\n",
    "|Recurso (Unidades) | 0 a 5.000     | 5.001 a 1.000.000     | 1.000.001 a 5.000.000    | 5.000.0001 a 20.000.000     |\n",
    "|:------|:------:|:------:|:------:|:-----:|\n",
    "|Analise de Sentimentos  | Gratis| US$ 1,00| US\\$ 0,50 | US\\$ 0,25|"
   ]
  },
  {
   "cell_type": "code",
   "execution_count": 437,
   "metadata": {
    "ExecuteTime": {
     "end_time": "2020-01-17T23:29:52.802133Z",
     "start_time": "2020-01-17T23:29:52.796695Z"
    },
    "colab": {
     "base_uri": "https://localhost:8080/",
     "height": 163
    },
    "colab_type": "code",
    "id": "UW0uB3A5VdrR",
    "outputId": "dbba76cf-aedb-4f26-c809-eff1ab10b431"
   },
   "outputs": [
    {
     "data": {
      "text/plain": [
       "(49459, 4)"
      ]
     },
     "execution_count": 437,
     "metadata": {},
     "output_type": "execute_result"
    }
   ],
   "source": [
    "# identificar dimensões do DataFrame\n",
    "df.shape"
   ]
  },
  {
   "cell_type": "markdown",
   "metadata": {},
   "source": [
    "Aplicando o método `len` as colunas  text_en e text_pt conseguimos avaliar quantos caracteres cada entrada possui."
   ]
  },
  {
   "cell_type": "code",
   "execution_count": 438,
   "metadata": {
    "ExecuteTime": {
     "end_time": "2020-01-17T23:29:57.656598Z",
     "start_time": "2020-01-17T23:29:57.431666Z"
    },
    "colab": {},
    "colab_type": "code",
    "id": "jOqxSHGFVdrs"
   },
   "outputs": [],
   "source": [
    "# Adicionar as colunas com o numero de caracteres para os dois idiomas.\n",
    "df['length_en'] = df['text_en'].apply(len)\n",
    "df['length_pt'] = df['text_pt'].apply(len)"
   ]
  },
  {
   "cell_type": "markdown",
   "metadata": {},
   "source": [
    "Por meio do método describe, é possível ver um resumo estatístico das variáveis numéricas e verificar a média de caracteres por coluna."
   ]
  },
  {
   "cell_type": "code",
   "execution_count": 439,
   "metadata": {},
   "outputs": [
    {
     "data": {
      "text/html": [
       "<div>\n",
       "<style scoped>\n",
       "    .dataframe tbody tr th:only-of-type {\n",
       "        vertical-align: middle;\n",
       "    }\n",
       "\n",
       "    .dataframe tbody tr th {\n",
       "        vertical-align: top;\n",
       "    }\n",
       "\n",
       "    .dataframe thead th {\n",
       "        text-align: right;\n",
       "    }\n",
       "</style>\n",
       "<table border=\"1\" class=\"dataframe\">\n",
       "  <thead>\n",
       "    <tr style=\"text-align: right;\">\n",
       "      <th></th>\n",
       "      <th>id</th>\n",
       "      <th>length_en</th>\n",
       "      <th>length_pt</th>\n",
       "    </tr>\n",
       "  </thead>\n",
       "  <tbody>\n",
       "    <tr>\n",
       "      <th>count</th>\n",
       "      <td>49459.000000</td>\n",
       "      <td>49459.000000</td>\n",
       "      <td>49459.000000</td>\n",
       "    </tr>\n",
       "    <tr>\n",
       "      <th>mean</th>\n",
       "      <td>24730.960917</td>\n",
       "      <td>1228.475283</td>\n",
       "      <td>1281.848925</td>\n",
       "    </tr>\n",
       "    <tr>\n",
       "      <th>std</th>\n",
       "      <td>14277.792868</td>\n",
       "      <td>852.181841</td>\n",
       "      <td>887.017874</td>\n",
       "    </tr>\n",
       "    <tr>\n",
       "      <th>min</th>\n",
       "      <td>1.000000</td>\n",
       "      <td>32.000000</td>\n",
       "      <td>30.000000</td>\n",
       "    </tr>\n",
       "    <tr>\n",
       "      <th>25%</th>\n",
       "      <td>12366.500000</td>\n",
       "      <td>683.000000</td>\n",
       "      <td>714.000000</td>\n",
       "    </tr>\n",
       "    <tr>\n",
       "      <th>50%</th>\n",
       "      <td>24731.000000</td>\n",
       "      <td>939.000000</td>\n",
       "      <td>982.000000</td>\n",
       "    </tr>\n",
       "    <tr>\n",
       "      <th>75%</th>\n",
       "      <td>37095.500000</td>\n",
       "      <td>1517.000000</td>\n",
       "      <td>1581.000000</td>\n",
       "    </tr>\n",
       "    <tr>\n",
       "      <th>max</th>\n",
       "      <td>49460.000000</td>\n",
       "      <td>5000.000000</td>\n",
       "      <td>5335.000000</td>\n",
       "    </tr>\n",
       "  </tbody>\n",
       "</table>\n",
       "</div>"
      ],
      "text/plain": [
       "                 id     length_en     length_pt\n",
       "count  49459.000000  49459.000000  49459.000000\n",
       "mean   24730.960917   1228.475283   1281.848925\n",
       "std    14277.792868    852.181841    887.017874\n",
       "min        1.000000     32.000000     30.000000\n",
       "25%    12366.500000    683.000000    714.000000\n",
       "50%    24731.000000    939.000000    982.000000\n",
       "75%    37095.500000   1517.000000   1581.000000\n",
       "max    49460.000000   5000.000000   5335.000000"
      ]
     },
     "execution_count": 439,
     "metadata": {},
     "output_type": "execute_result"
    }
   ],
   "source": [
    "df.describe()"
   ]
  },
  {
   "cell_type": "markdown",
   "metadata": {},
   "source": [
    "Nosso dataset se aproxima de 50.000 mil entradas, contendo em média 1.250 caracteres cada. \n",
    "Cada entrada contaria como duas unidades e teríamos então um total de 100.000 mil unidades, como aplicaremos a função de análise em cima de dois idiomas esse valor duplicaria para 200.000 unidades!! e isso tornaria nossa análise muito custosa e demorada.\n",
    "\n",
    "Para facilitar nossa análise e manter a confiabilidade do experimento, foi gerada uma amostra a partir do conjunto de dados inicial.\n",
    "Para construir a amostra, 381 reviews foram selecionados aleatoriamente do conjunto de dados do IMDB que possui 49.459 entradas. O tamanho da amostra foi determinado após especificar um nível de confiança de 95% e uma margem de erro de 5%.\n"
   ]
  },
  {
   "cell_type": "code",
   "execution_count": 440,
   "metadata": {
    "ExecuteTime": {
     "end_time": "2020-01-17T23:29:58.407597Z",
     "start_time": "2020-01-17T23:29:58.390663Z"
    },
    "colab": {
     "base_uri": "https://localhost:8080/",
     "height": 180
    },
    "colab_type": "code",
    "id": "5OA7noQAVdrx",
    "outputId": "6de928ea-350f-41a3-ade2-1c8b027cc357"
   },
   "outputs": [],
   "source": [
    "# Reduzindo o dataframe a 381 entradas aleatorias\n",
    "amostra = df.sample(381)"
   ]
  },
  {
   "cell_type": "markdown",
   "metadata": {},
   "source": [
    "## Processamento em Paralelo\n",
    "\n",
    "Nosso conteúdo para análise foi reduzido consideravelmente mas imagine que quiséssemos continuar com o conteúdo original, isso geraria uma demanda imensa de requisições a API do Google, cada uma com seu próprio tempo de processamento e resposta. Não que os servidores poderosíssimos de uma empresa como a GOOGLE sejam lentos (Bem longe disso) mas existindo a possibilidade de acelerar esse processo ainda mais porque não nos aproveitarmos dele. \n",
    "\n",
    "Se fossemos fazer uma iteração normal entre todos os elementos a serem analisados, cada review dentro do nosso loop seria sequencialmente (um a um) enviado a API , analisado e retornado uma resposta, levando um tempo considerável e é aí que entra o processamento paralelo.\n",
    "\n",
    "Basicamente processamento em paralelo é fazer duas ou mais coisas ao mesmo tempo, isso é possível rodando seu código em diferentes núcleos do computador simultaneamente. A utilização deste método de processamento possibilita que uma tarefa não tenha que correr de forma sequencial, nos dando a opção de configurar a função analyze_sentiment(content) para que faça várias requisições concomitantes a API, utilizando núcleos diferentes consequentemente tendo um ganho em performance. \n",
    "\n",
    "O parâmetro n_jobs seleciona o número de processos simultâneos que deverão ser iniciados e multiprocessing.cpu_count() conta automaticamente o número de núcleos do computador para que \n"
   ]
  },
  {
   "cell_type": "code",
   "execution_count": 442,
   "metadata": {},
   "outputs": [],
   "source": [
    "# Contagem do numeros de cores\n",
    "num_cores = multiprocessing.cpu_count()"
   ]
  },
  {
   "cell_type": "code",
   "execution_count": 441,
   "metadata": {
    "ExecuteTime": {
     "end_time": "2020-01-17T23:29:58.388118Z",
     "start_time": "2020-01-17T23:29:57.887852Z"
    },
    "colab": {},
    "colab_type": "code",
    "id": "0ZY6sf-WVdrv"
   },
   "outputs": [],
   "source": [
    "def analyze_sentiment(content):\n",
    "    client = language_v1.LanguageServiceClient()\n",
    "\n",
    "    # content = 'Your text to analyze, e.g. Hello, world!'\n",
    "\n",
    "    if isinstance(content, six.binary_type):\n",
    "        content = content.decode('utf-8')\n",
    "\n",
    "    type_ = enums.Document.Type.PLAIN_TEXT\n",
    "    document = {'type': type_, 'content': content}\n",
    "\n",
    "    response = client.analyze_sentiment(document)\n",
    "    sentiment = response.document_sentiment\n",
    "    score = sentiment.score\n",
    "    magnitude = sentiment.magnitude\n",
    "    \n",
    "    return score,magnitude"
   ]
  },
  {
   "cell_type": "code",
   "execution_count": 468,
   "metadata": {
    "ExecuteTime": {
     "end_time": "2020-01-17T23:30:44.643617Z",
     "start_time": "2020-01-17T23:30:39.579155Z"
    },
    "colab": {},
    "colab_type": "code",
    "id": "WdxjpmxgVdr2"
   },
   "outputs": [
    {
     "name": "stdout",
     "output_type": "stream",
     "text": [
      "CPU times: user 2.03 s, sys: 125 ms, total: 2.16 s\n",
      "Wall time: 1min 49s\n"
     ]
    }
   ],
   "source": [
    "%%time\n",
    "result_text_pt = Parallel(n_jobs=num_cores)(delayed(analyze_sentiment)(frase) for frase in amostra.text_pt)"
   ]
  },
  {
   "cell_type": "code",
   "execution_count": 469,
   "metadata": {},
   "outputs": [
    {
     "name": "stdout",
     "output_type": "stream",
     "text": [
      "CPU times: user 1.99 s, sys: 132 ms, total: 2.12 s\n",
      "Wall time: 2min 4s\n"
     ]
    }
   ],
   "source": [
    "%%time\n",
    "result_text_en = Parallel(n_jobs=num_cores)(delayed(analyze_sentiment)(frase) for frase in amostra.text_en)"
   ]
  },
  {
   "cell_type": "code",
   "execution_count": 488,
   "metadata": {
    "ExecuteTime": {
     "end_time": "2020-01-17T23:30:44.655513Z",
     "start_time": "2020-01-17T23:30:44.648424Z"
    },
    "colab": {},
    "colab_type": "code",
    "id": "7TtYm-LeVdr3"
   },
   "outputs": [],
   "source": [
    "# Criando as colunas de score e magnitude para ambos idiomas \n",
    "amostra['score_en'], amostra['magnitude_en'] = zip(*result_text_en) \n",
    "amostra['score_pt'] ,amostra['magnitude_pt'] = zip(*result_text_pt)  "
   ]
  },
  {
   "cell_type": "markdown",
   "metadata": {},
   "source": [
    "## Avaliando os Resultados\n",
    "\n",
    "A análise de sentimento da API de Natural Language do Google tenta determinar a atitude geral do documento e é representada por valores numéricos score e magnitude.\n",
    "\n",
    "Para classificar corretamente o sentimento de textos, é necessário interpretar esses dois valores. Enquanto o score representa o sentimento geral do conteúdo (positivo ou negativo), a magnitude indica o conteúdo emocional presente nele, e esse valor é segundo a GOOGLE geralmente proporcional ao tamanho do documento. Resumidamente:\n",
    "- Score: indica o range do sentimento, onde -1.0 representa o limite de um sentimento negativo e 1.0 o limite de um sentimento positivo.\n",
    "- Magnitude: Indica a força geral da emoção classificada no score. Diferente do score, a magnitude não é normalizada e varia entre os intervalos de 0.0 e +inf.\n"
   ]
  },
  {
   "cell_type": "code",
   "execution_count": 569,
   "metadata": {
    "ExecuteTime": {
     "end_time": "2020-01-17T23:30:45.370422Z",
     "start_time": "2020-01-17T23:30:45.090350Z"
    },
    "colab": {},
    "colab_type": "code",
    "id": "IMt6YBviVdr-"
   },
   "outputs": [
    {
     "data": {
      "application/vnd.plotly.v1+json": {
       "config": {
        "plotlyServerURL": "https://plot.ly"
       },
       "data": [
        {
         "name": "score_en",
         "type": "box",
         "xaxis": "x",
         "y": [
          -0.30000001192092896,
          0.6000000238418579,
          0.5,
          0,
          0.20000000298023224,
          -0.10000000149011612,
          0,
          0,
          0,
          0,
          -0.5,
          -0.20000000298023224,
          -0.800000011920929,
          -0.10000000149011612,
          -0.10000000149011612,
          0.30000001192092896,
          -0.4000000059604645,
          -0.800000011920929,
          -0.699999988079071,
          -0.10000000149011612,
          0.5,
          0.6000000238418579,
          -0.20000000298023224,
          0,
          -0.20000000298023224,
          0.5,
          -0.10000000149011612,
          -0.20000000298023224,
          0,
          -0.5,
          0.20000000298023224,
          0,
          0.4000000059604645,
          0.4000000059604645,
          0.5,
          0.30000001192092896,
          -0.10000000149011612,
          -0.10000000149011612,
          0.5,
          -0.6000000238418579,
          0.10000000149011612,
          0.10000000149011612,
          -0.4000000059604645,
          -0.10000000149011612,
          0.4000000059604645,
          0,
          -0.4000000059604645,
          -0.30000001192092896,
          -0.20000000298023224,
          -0.10000000149011612,
          0.6000000238418579,
          0,
          0.699999988079071,
          -0.20000000298023224,
          0.10000000149011612,
          -0.10000000149011612,
          -0.10000000149011612,
          0,
          0,
          0,
          -0.30000001192092896,
          -0.20000000298023224,
          0,
          -0.6000000238418579,
          0,
          0,
          -0.30000001192092896,
          -0.30000001192092896,
          -0.20000000298023224,
          -0.699999988079071,
          0.10000000149011612,
          -0.6000000238418579,
          0.30000001192092896,
          -0.10000000149011612,
          -0.30000001192092896,
          0.20000000298023224,
          -0.20000000298023224,
          0,
          -0.20000000298023224,
          0,
          -0.30000001192092896,
          0.6000000238418579,
          0.699999988079071,
          -0.4000000059604645,
          -0.10000000149011612,
          0.20000000298023224,
          0,
          0.6000000238418579,
          -0.10000000149011612,
          0,
          -0.20000000298023224,
          -0.20000000298023224,
          0.30000001192092896,
          -0.30000001192092896,
          0,
          -0.20000000298023224,
          0.4000000059604645,
          0.30000001192092896,
          0.6000000238418579,
          -0.10000000149011612,
          -0.800000011920929,
          0.4000000059604645,
          0.6000000238418579,
          -0.4000000059604645,
          -0.20000000298023224,
          -0.30000001192092896,
          -0.30000001192092896,
          0,
          0.20000000298023224,
          0,
          0.30000001192092896,
          -0.10000000149011612,
          0.800000011920929,
          -0.10000000149011612,
          -0.30000001192092896,
          0,
          0.20000000298023224,
          0,
          0,
          0.5,
          0.4000000059604645,
          0.6000000238418579,
          0,
          -0.30000001192092896,
          0.699999988079071,
          0.10000000149011612,
          0,
          -0.5,
          0,
          -0.30000001192092896,
          0.30000001192092896,
          -0.30000001192092896,
          0,
          -0.20000000298023224,
          0.4000000059604645,
          -0.20000000298023224,
          0,
          -0.20000000298023224,
          -0.30000001192092896,
          0.30000001192092896,
          -0.5,
          -0.10000000149011612,
          0,
          -0.5,
          0.6000000238418579,
          0,
          -0.4000000059604645,
          0.4000000059604645,
          -0.20000000298023224,
          0,
          0.5,
          -0.20000000298023224,
          0.20000000298023224,
          0.6000000238418579,
          -0.4000000059604645,
          -0.20000000298023224,
          0,
          0,
          0.6000000238418579,
          0.699999988079071,
          -0.699999988079071,
          0,
          -0.20000000298023224,
          0,
          -0.4000000059604645,
          0.20000000298023224,
          0,
          0,
          -0.699999988079071,
          0,
          0.699999988079071,
          -0.30000001192092896,
          -0.30000001192092896,
          0,
          -0.4000000059604645,
          0,
          0.30000001192092896,
          -0.4000000059604645,
          -0.20000000298023224,
          0,
          0.30000001192092896,
          -0.5,
          -0.30000001192092896,
          -0.10000000149011612,
          0.4000000059604645,
          -0.4000000059604645,
          0.10000000149011612,
          0,
          -0.10000000149011612,
          -0.5,
          -0.30000001192092896,
          0.30000001192092896,
          0,
          -0.6000000238418579,
          -0.30000001192092896,
          -0.30000001192092896,
          -0.20000000298023224,
          0.20000000298023224,
          0.30000001192092896,
          -0.4000000059604645,
          0,
          -0.30000001192092896,
          0.6000000238418579,
          -0.30000001192092896,
          0,
          0.4000000059604645,
          0.10000000149011612,
          -0.10000000149011612,
          0.20000000298023224,
          -0.20000000298023224,
          0.10000000149011612,
          -0.30000001192092896,
          0,
          0,
          -0.10000000149011612,
          -0.10000000149011612,
          0.4000000059604645,
          -0.20000000298023224,
          -0.20000000298023224,
          0,
          0.5,
          0.4000000059604645,
          0.6000000238418579,
          -0.699999988079071,
          0.800000011920929,
          0,
          -0.5,
          0.20000000298023224,
          -0.6000000238418579,
          0.30000001192092896,
          0.4000000059604645,
          0.10000000149011612,
          0.20000000298023224,
          0.10000000149011612,
          0.10000000149011612,
          -0.30000001192092896,
          -0.10000000149011612,
          0,
          0.6000000238418579,
          -0.10000000149011612,
          -0.10000000149011612,
          -0.30000001192092896,
          -0.4000000059604645,
          0.10000000149011612,
          -0.10000000149011612,
          -0.30000001192092896,
          -0.30000001192092896,
          0.20000000298023224,
          0.10000000149011612,
          -0.30000001192092896,
          0,
          0.30000001192092896,
          -0.20000000298023224,
          0.30000001192092896,
          -0.5,
          0,
          -0.30000001192092896,
          -0.20000000298023224,
          0,
          0,
          0.10000000149011612,
          0,
          0.30000001192092896,
          0.4000000059604645,
          -0.10000000149011612,
          0.699999988079071,
          0.10000000149011612,
          0.4000000059604645,
          0.30000001192092896,
          0.30000001192092896,
          -0.20000000298023224,
          -0.8999999761581421,
          -0.699999988079071,
          0.4000000059604645,
          0.20000000298023224,
          0,
          -0.10000000149011612,
          0.5,
          -0.30000001192092896,
          0.4000000059604645,
          0.20000000298023224,
          -0.20000000298023224,
          0.4000000059604645,
          0.10000000149011612,
          -0.20000000298023224,
          0,
          0.8999999761581421,
          0,
          0.10000000149011612,
          0.4000000059604645,
          0.8999999761581421,
          -0.10000000149011612,
          0.30000001192092896,
          -0.6000000238418579,
          0.30000001192092896,
          0.20000000298023224,
          0.699999988079071,
          -0.10000000149011612,
          0.10000000149011612,
          0,
          -0.4000000059604645,
          -0.20000000298023224,
          0.10000000149011612,
          0.10000000149011612,
          0.10000000149011612,
          0,
          -0.30000001192092896,
          -0.699999988079071,
          -0.10000000149011612,
          0,
          -0.699999988079071,
          -0.5,
          -0.699999988079071,
          0.20000000298023224,
          0.20000000298023224,
          -0.30000001192092896,
          0.5,
          -0.699999988079071,
          0.10000000149011612,
          0.5,
          -0.10000000149011612,
          -0.30000001192092896,
          -0.10000000149011612,
          0.10000000149011612,
          0.10000000149011612,
          -0.20000000298023224,
          0.10000000149011612,
          -0.699999988079071,
          -0.20000000298023224,
          0.20000000298023224,
          -0.20000000298023224,
          -0.5,
          0,
          -0.10000000149011612,
          0.20000000298023224,
          -0.30000001192092896,
          -0.4000000059604645,
          0.30000001192092896,
          0,
          -0.5,
          0,
          0.20000000298023224,
          0,
          0.20000000298023224,
          -0.6000000238418579,
          0.10000000149011612,
          0.4000000059604645,
          -0.10000000149011612,
          0.800000011920929,
          -0.5,
          -0.5,
          -0.20000000298023224,
          -0.30000001192092896,
          0.10000000149011612,
          -0.699999988079071,
          0.30000001192092896,
          -0.6000000238418579,
          -0.5,
          0.10000000149011612,
          -0.20000000298023224,
          -0.6000000238418579,
          0.30000001192092896,
          0,
          0,
          0.800000011920929,
          -0.4000000059604645,
          0.30000001192092896,
          -0.8999999761581421,
          -0.4000000059604645,
          0.30000001192092896,
          0.4000000059604645,
          0.5,
          -0.30000001192092896,
          -0.30000001192092896,
          0.20000000298023224,
          -0.20000000298023224,
          -0.30000001192092896,
          -0.20000000298023224,
          0,
          -0.20000000298023224,
          -0.10000000149011612
         ],
         "yaxis": "y"
        },
        {
         "name": "score_pt",
         "type": "box",
         "xaxis": "x",
         "y": [
          -0.20000000298023224,
          0.30000001192092896,
          0.20000000298023224,
          0.20000000298023224,
          0.20000000298023224,
          -0.20000000298023224,
          0,
          0,
          0,
          0.10000000149011612,
          -0.30000001192092896,
          0,
          -0.10000000149011612,
          0,
          0,
          0.20000000298023224,
          -0.10000000149011612,
          -0.10000000149011612,
          -0.5,
          0,
          0.30000001192092896,
          0.30000001192092896,
          0.10000000149011612,
          0,
          0.20000000298023224,
          0.10000000149011612,
          0,
          -0.20000000298023224,
          0,
          0,
          0.20000000298023224,
          0,
          0.20000000298023224,
          0.10000000149011612,
          0.4000000059604645,
          0.10000000149011612,
          0,
          0,
          0.10000000149011612,
          -0.10000000149011612,
          0.20000000298023224,
          0.10000000149011612,
          0.10000000149011612,
          0.10000000149011612,
          0,
          0,
          0,
          0,
          0,
          -0.10000000149011612,
          0,
          0.10000000149011612,
          0,
          -0.30000001192092896,
          0.10000000149011612,
          0,
          0,
          0,
          0,
          -0.10000000149011612,
          0,
          -0.10000000149011612,
          0,
          -0.10000000149011612,
          0,
          0.20000000298023224,
          0,
          -0.10000000149011612,
          -0.10000000149011612,
          -0.10000000149011612,
          0.10000000149011612,
          0.10000000149011612,
          0.10000000149011612,
          0.20000000298023224,
          0,
          0.20000000298023224,
          0,
          0.10000000149011612,
          -0.20000000298023224,
          0,
          -0.10000000149011612,
          0.4000000059604645,
          0.30000001192092896,
          -0.10000000149011612,
          0,
          0.30000001192092896,
          0,
          0.4000000059604645,
          0,
          0,
          0.10000000149011612,
          0,
          0.10000000149011612,
          -0.30000001192092896,
          0.20000000298023224,
          -0.10000000149011612,
          0.30000001192092896,
          0,
          0,
          0,
          0,
          0.4000000059604645,
          0.30000001192092896,
          -0.10000000149011612,
          0,
          -0.30000001192092896,
          0,
          0.10000000149011612,
          0.20000000298023224,
          0,
          0.10000000149011612,
          0,
          0.4000000059604645,
          0,
          0,
          0,
          0.20000000298023224,
          0,
          0,
          0.30000001192092896,
          0,
          0.4000000059604645,
          0.4000000059604645,
          0,
          0.5,
          0.10000000149011612,
          0,
          -0.20000000298023224,
          0,
          0,
          0.10000000149011612,
          -0.20000000298023224,
          0,
          -0.10000000149011612,
          0,
          0,
          0,
          0,
          0,
          0.30000001192092896,
          -0.20000000298023224,
          0,
          0,
          -0.30000001192092896,
          0.20000000298023224,
          0.20000000298023224,
          -0.10000000149011612,
          0.30000001192092896,
          -0.10000000149011612,
          0.10000000149011612,
          0.10000000149011612,
          0,
          -0.10000000149011612,
          0.20000000298023224,
          0,
          -0.20000000298023224,
          0,
          0.10000000149011612,
          0.5,
          0.5,
          -0.30000001192092896,
          0,
          0.10000000149011612,
          0.10000000149011612,
          0,
          0.20000000298023224,
          0.20000000298023224,
          0.20000000298023224,
          -0.5,
          0.10000000149011612,
          0.30000001192092896,
          -0.10000000149011612,
          -0.10000000149011612,
          0,
          -0.20000000298023224,
          0.10000000149011612,
          0.4000000059604645,
          -0.10000000149011612,
          0,
          0,
          0.30000001192092896,
          0,
          0,
          0.10000000149011612,
          0,
          0,
          -0.10000000149011612,
          0,
          0.10000000149011612,
          -0.10000000149011612,
          -0.10000000149011612,
          0.30000001192092896,
          -0.20000000298023224,
          -0.10000000149011612,
          -0.10000000149011612,
          0,
          0,
          0.20000000298023224,
          0.4000000059604645,
          -0.10000000149011612,
          0,
          0,
          0.699999988079071,
          -0.10000000149011612,
          -0.10000000149011612,
          0,
          0.4000000059604645,
          0,
          0.20000000298023224,
          0,
          0.20000000298023224,
          -0.20000000298023224,
          0.30000001192092896,
          0,
          0,
          0,
          0.10000000149011612,
          0,
          0.30000001192092896,
          0,
          0.30000001192092896,
          0,
          0.5,
          -0.20000000298023224,
          0.4000000059604645,
          0,
          -0.20000000298023224,
          0,
          -0.30000001192092896,
          0.10000000149011612,
          0.10000000149011612,
          0,
          0,
          0.10000000149011612,
          0.30000001192092896,
          -0.10000000149011612,
          0,
          0.10000000149011612,
          0,
          0,
          0,
          -0.10000000149011612,
          0,
          0,
          0,
          0,
          -0.30000001192092896,
          0.20000000298023224,
          0,
          0,
          0.10000000149011612,
          0.20000000298023224,
          0,
          0,
          0,
          0,
          0,
          -0.10000000149011612,
          0,
          0.30000001192092896,
          0.20000000298023224,
          0,
          0.6000000238418579,
          0.30000001192092896,
          0,
          0.4000000059604645,
          -0.10000000149011612,
          0.30000001192092896,
          0.30000001192092896,
          0,
          -0.5,
          -0.4000000059604645,
          -0.20000000298023224,
          0.4000000059604645,
          0,
          0,
          0,
          0.10000000149011612,
          0,
          0.30000001192092896,
          0.10000000149011612,
          0,
          0.20000000298023224,
          0.10000000149011612,
          -0.20000000298023224,
          -0.20000000298023224,
          0.5,
          0.30000001192092896,
          0.10000000149011612,
          0.10000000149011612,
          0,
          0,
          0.10000000149011612,
          0,
          0.10000000149011612,
          0,
          0.5,
          0,
          0.20000000298023224,
          -0.10000000149011612,
          -0.10000000149011612,
          0,
          0.20000000298023224,
          0.20000000298023224,
          0,
          0,
          -0.20000000298023224,
          -0.10000000149011612,
          0.10000000149011612,
          0.20000000298023224,
          -0.20000000298023224,
          -0.10000000149011612,
          0,
          0.30000001192092896,
          0,
          0,
          0.30000001192092896,
          -0.10000000149011612,
          0,
          0,
          0.20000000298023224,
          0,
          0,
          0.20000000298023224,
          0,
          0,
          0,
          -0.4000000059604645,
          0,
          0.30000001192092896,
          -0.10000000149011612,
          -0.30000001192092896,
          0.10000000149011612,
          0,
          0.10000000149011612,
          -0.20000000298023224,
          0,
          0.20000000298023224,
          -0.10000000149011612,
          -0.20000000298023224,
          0.10000000149011612,
          0.10000000149011612,
          0,
          0,
          -0.20000000298023224,
          0.20000000298023224,
          0.10000000149011612,
          0,
          0.20000000298023224,
          0.10000000149011612,
          -0.20000000298023224,
          0,
          0.30000001192092896,
          0.30000001192092896,
          0,
          0.30000001192092896,
          -0.10000000149011612,
          -0.10000000149011612,
          0,
          -0.10000000149011612,
          0,
          0.20000000298023224,
          -0.10000000149011612,
          0,
          0.30000001192092896,
          -0.10000000149011612,
          0.20000000298023224,
          -0.30000001192092896,
          0.10000000149011612,
          0.30000001192092896,
          0.20000000298023224,
          0,
          0,
          -0.20000000298023224,
          0,
          -0.10000000149011612,
          -0.20000000298023224,
          0,
          0,
          0,
          0.10000000149011612
         ],
         "yaxis": "y"
        },
        {
         "name": "magnitude_en",
         "type": "box",
         "xaxis": "x2",
         "y": [
          5.900000095367432,
          5.400000095367432,
          1.600000023841858,
          1.2999999523162842,
          4.199999809265137,
          5.300000190734863,
          2.0999999046325684,
          1.600000023841858,
          11.600000381469727,
          4.599999904632568,
          7.900000095367432,
          3.0999999046325684,
          1.7000000476837158,
          2.200000047683716,
          8.5,
          6.300000190734863,
          7.199999809265137,
          6.400000095367432,
          3,
          1.399999976158142,
          2.0999999046325684,
          10.199999809265137,
          3.0999999046325684,
          4.300000190734863,
          3.299999952316284,
          1.899999976158142,
          5.5,
          3.0999999046325684,
          11.899999618530273,
          3,
          4.300000190734863,
          7.099999904632568,
          8.899999618530273,
          4.5,
          8.300000190734863,
          4.400000095367432,
          7.300000190734863,
          3.799999952316284,
          1.7000000476837158,
          6.400000095367432,
          3.4000000953674316,
          7,
          9.5,
          3.5,
          5,
          7.699999809265137,
          2.0999999046325684,
          8.600000381469727,
          7,
          8,
          2.700000047683716,
          14.100000381469727,
          3.5,
          7.599999904632568,
          1.899999976158142,
          3.299999952316284,
          5,
          6.400000095367432,
          8.399999618530273,
          1.5,
          3.299999952316284,
          10.100000381469727,
          4.199999809265137,
          4.699999809265137,
          2.9000000953674316,
          2.4000000953674316,
          5,
          8,
          7,
          3.9000000953674316,
          6.199999809265137,
          2.700000047683716,
          5.5,
          1.399999976158142,
          5.400000095367432,
          3.200000047683716,
          3.4000000953674316,
          11.399999618530273,
          5.800000190734863,
          1,
          8.5,
          4,
          3,
          3.9000000953674316,
          5.300000190734863,
          0.5,
          12.399999618530273,
          0.6000000238418579,
          3,
          1.899999976158142,
          7,
          7.900000095367432,
          4.199999809265137,
          5.099999904632568,
          10,
          4.199999809265137,
          7.099999904632568,
          3.200000047683716,
          2.700000047683716,
          30.200000762939453,
          2.5,
          1.399999976158142,
          5.199999809265137,
          6.699999809265137,
          2.9000000953674316,
          7.699999809265137,
          8.600000381469727,
          6.800000190734863,
          6.5,
          5,
          2.5,
          1.2999999523162842,
          0.800000011920929,
          7.699999809265137,
          3.700000047683716,
          8.600000381469727,
          4,
          2.4000000953674316,
          1.2000000476837158,
          3.799999952316284,
          3.299999952316284,
          2.5999999046325684,
          1.5,
          5.199999809265137,
          12.399999618530273,
          5.300000190734863,
          9.800000190734863,
          4.300000190734863,
          3.299999952316284,
          6.099999904632568,
          3.299999952316284,
          5.199999809265137,
          2,
          3.5,
          3.200000047683716,
          12.300000190734863,
          2.9000000953674316,
          3.4000000953674316,
          6.900000095367432,
          8.5,
          11.800000190734863,
          7.199999809265137,
          3.200000047683716,
          7,
          3,
          1.600000023841858,
          7.099999904632568,
          2.5,
          3.5999999046325684,
          7.300000190734863,
          3.700000047683716,
          3.0999999046325684,
          3.9000000953674316,
          1.7999999523162842,
          6.599999904632568,
          2.0999999046325684,
          2.4000000953674316,
          12.399999618530273,
          7.300000190734863,
          5.699999809265137,
          4.300000190734863,
          3.4000000953674316,
          7,
          1.2999999523162842,
          5.300000190734863,
          3.799999952316284,
          1.600000023841858,
          2.5999999046325684,
          4.300000190734863,
          6.5,
          3.9000000953674316,
          3.9000000953674316,
          5.800000190734863,
          5.400000095367432,
          9.899999618530273,
          6.199999809265137,
          2.299999952316284,
          22,
          5.800000190734863,
          14.699999809265137,
          6.599999904632568,
          6.300000190734863,
          4.599999904632568,
          6.5,
          3.0999999046325684,
          6.099999904632568,
          5.599999904632568,
          11.699999809265137,
          4.5,
          4.599999904632568,
          2.700000047683716,
          6,
          3.799999952316284,
          6.699999809265137,
          5.900000095367432,
          2.9000000953674316,
          2.700000047683716,
          3.4000000953674316,
          5.400000095367432,
          5.199999809265137,
          5.099999904632568,
          7,
          4.199999809265137,
          1,
          6.099999904632568,
          4.099999904632568,
          0.30000001192092896,
          17.899999618530273,
          8.5,
          3.700000047683716,
          5.900000095367432,
          2.299999952316284,
          8.100000381469727,
          4.599999904632568,
          9.100000381469727,
          4.099999904632568,
          3.5999999046325684,
          4.699999809265137,
          2.299999952316284,
          11.5,
          5.699999809265137,
          4.699999809265137,
          9.800000190734863,
          3.0999999046325684,
          1.600000023841858,
          3.5,
          1,
          1.7999999523162842,
          6.300000190734863,
          3.5,
          10.699999809265137,
          5.099999904632568,
          3.200000047683716,
          6.199999809265137,
          3.5999999046325684,
          5.400000095367432,
          13,
          5.400000095367432,
          2.700000047683716,
          11.899999618530273,
          1.5,
          8.699999809265137,
          4,
          2,
          12.800000190734863,
          5.099999904632568,
          3.0999999046325684,
          3.0999999046325684,
          3.5999999046325684,
          6.599999904632568,
          5.400000095367432,
          1.2000000476837158,
          4,
          9.800000190734863,
          3.700000047683716,
          2.799999952316284,
          10.399999618530273,
          7.300000190734863,
          2.299999952316284,
          2.9000000953674316,
          1.899999976158142,
          6.400000095367432,
          3.4000000953674316,
          0.8999999761581421,
          1.399999976158142,
          2.799999952316284,
          3.200000047683716,
          5.900000095367432,
          3.0999999046325684,
          4.300000190734863,
          1.7999999523162842,
          1.899999976158142,
          2.299999952316284,
          8.800000190734863,
          6.599999904632568,
          4.300000190734863,
          5.599999904632568,
          3.799999952316284,
          2.5,
          5.5,
          2.0999999046325684,
          11,
          2.5,
          8.399999618530273,
          4.400000095367432,
          2.5999999046325684,
          1.899999976158142,
          3.299999952316284,
          2.299999952316284,
          3.799999952316284,
          0.8999999761581421,
          3,
          2.200000047683716,
          5.300000190734863,
          3,
          9.100000381469727,
          3.799999952316284,
          10.399999618530273,
          6.800000190734863,
          2,
          8,
          9.800000190734863,
          5.699999809265137,
          10.199999809265137,
          5.199999809265137,
          4.400000095367432,
          4.5,
          4.300000190734863,
          2.5999999046325684,
          9.300000190734863,
          4.599999904632568,
          4.099999904632568,
          2.9000000953674316,
          1.5,
          7.5,
          3.700000047683716,
          5.400000095367432,
          5.199999809265137,
          2.0999999046325684,
          6.199999809265137,
          2.5999999046325684,
          2.200000047683716,
          4.599999904632568,
          2.299999952316284,
          5.699999809265137,
          5.099999904632568,
          13.100000381469727,
          2.299999952316284,
          3.9000000953674316,
          3,
          10.800000190734863,
          5,
          7.300000190734863,
          7.599999904632568,
          8.199999809265137,
          4.900000095367432,
          8.899999618530273,
          3.700000047683716,
          3.9000000953674316,
          10.800000190734863,
          4.300000190734863,
          4.5,
          4.300000190734863,
          9.100000381469727,
          2.5,
          6.599999904632568,
          4.599999904632568,
          3.9000000953674316,
          5,
          3.4000000953674316,
          1.7000000476837158,
          2.9000000953674316,
          0.699999988079071,
          11.899999618530273,
          6.199999809265137,
          3.5999999046325684,
          8.800000190734863,
          6.099999904632568,
          8.300000190734863,
          3.700000047683716,
          4.699999809265137,
          2.299999952316284,
          2,
          5.400000095367432,
          3.200000047683716,
          7.599999904632568,
          3.0999999046325684,
          0.8999999761581421,
          1.7000000476837158,
          2.9000000953674316,
          3.5,
          6.400000095367432,
          2.299999952316284,
          6.199999809265137,
          3.4000000953674316,
          9.399999618530273,
          6.599999904632568,
          4.599999904632568,
          5.599999904632568,
          5.5,
          2.9000000953674316
         ],
         "yaxis": "y2"
        },
        {
         "name": "magnitude_pt",
         "type": "box",
         "xaxis": "x2",
         "y": [
          6.300000190734863,
          4.900000095367432,
          1,
          1.7000000476837158,
          3.0999999046325684,
          2.299999952316284,
          3,
          3.5,
          11.199999809265137,
          4,
          7.199999809265137,
          6.199999809265137,
          1.100000023841858,
          1.100000023841858,
          10,
          4.699999809265137,
          3.299999952316284,
          5.800000190734863,
          2,
          1.7999999523162842,
          4.400000095367432,
          2.700000047683716,
          2.799999952316284,
          4.699999809265137,
          2.9000000953674316,
          2.299999952316284,
          2.0999999046325684,
          2,
          8.100000381469727,
          2.5,
          3.299999952316284,
          6.5,
          6.099999904632568,
          3.5,
          6.099999904632568,
          4.599999904632568,
          7.199999809265137,
          3,
          2.299999952316284,
          5,
          3.799999952316284,
          6.900000095367432,
          7.599999904632568,
          1.2000000476837158,
          2.700000047683716,
          7.300000190734863,
          1.399999976158142,
          6.900000095367432,
          3.200000047683716,
          5.199999809265137,
          0.800000011920929,
          11.800000190734863,
          1.899999976158142,
          2.9000000953674316,
          0.800000011920929,
          5.199999809265137,
          5.5,
          4.699999809265137,
          7.5,
          1.100000023841858,
          3.0999999046325684,
          7.599999904632568,
          7,
          4.199999809265137,
          3.4000000953674316,
          1.2000000476837158,
          3.5,
          7,
          5.599999904632568,
          1.7999999523162842,
          4.800000190734863,
          3.299999952316284,
          6,
          2,
          4.099999904632568,
          3.0999999046325684,
          1.2000000476837158,
          11.699999809265137,
          7.099999904632568,
          0.699999988079071,
          5.099999904632568,
          2.9000000953674316,
          3.200000047683716,
          2.299999952316284,
          7.800000190734863,
          1.5,
          11.699999809265137,
          0.4000000059604645,
          4.300000190734863,
          1.5,
          7,
          9.5,
          3.0999999046325684,
          3.0999999046325684,
          8.899999618530273,
          5.5,
          6.800000190734863,
          2.5,
          1.100000023841858,
          25.799999237060547,
          0.5,
          1.2999999523162842,
          3,
          4.5,
          2.9000000953674316,
          6.900000095367432,
          6.099999904632568,
          7.5,
          4.699999809265137,
          3.700000047683716,
          2.4000000953674316,
          0.10000000149011612,
          0.8999999761581421,
          7.400000095367432,
          2.4000000953674316,
          6.599999904632568,
          2.9000000953674316,
          3.200000047683716,
          4,
          2.5,
          1.5,
          2.299999952316284,
          0.800000011920929,
          5,
          8.600000381469727,
          4.300000190734863,
          8.899999618530273,
          2.9000000953674316,
          3.5999999046325684,
          3.9000000953674316,
          1.7999999523162842,
          4.699999809265137,
          1.7000000476837158,
          1.600000023841858,
          2.299999952316284,
          11.5,
          2.700000047683716,
          4.199999809265137,
          6.099999904632568,
          6.900000095367432,
          9.199999809265137,
          5.099999904632568,
          3.299999952316284,
          6.699999809265137,
          2.4000000953674316,
          1.399999976158142,
          4.199999809265137,
          2.200000047683716,
          2.5,
          7.099999904632568,
          1.399999976158142,
          1.2000000476837158,
          2.799999952316284,
          1,
          5.199999809265137,
          2.799999952316284,
          2.5,
          11.600000381469727,
          6,
          5.400000095367432,
          2.5,
          2.799999952316284,
          6.199999809265137,
          2.200000047683716,
          8.300000190734863,
          3.200000047683716,
          2.0999999046325684,
          4.599999904632568,
          3.5,
          7,
          2.799999952316284,
          3.9000000953674316,
          4.900000095367432,
          3.9000000953674316,
          8.5,
          7.699999809265137,
          2.799999952316284,
          14.600000381469727,
          3.4000000953674316,
          10.100000381469727,
          6.800000190734863,
          2.9000000953674316,
          4,
          5.199999809265137,
          2.5999999046325684,
          3.9000000953674316,
          5.800000190734863,
          12.300000190734863,
          8.100000381469727,
          4.099999904632568,
          3.9000000953674316,
          6.199999809265137,
          5.599999904632568,
          5.199999809265137,
          5,
          2.5,
          2.799999952316284,
          3.9000000953674316,
          4,
          2.9000000953674316,
          4.5,
          6,
          4.900000095367432,
          4.800000190734863,
          9.399999618530273,
          3.200000047683716,
          0.8999999761581421,
          13.199999809265137,
          6.300000190734863,
          3.4000000953674316,
          7.300000190734863,
          1.7999999523162842,
          10.199999809265137,
          6.300000190734863,
          11.100000381469727,
          5.400000095367432,
          2.299999952316284,
          6.5,
          1.7999999523162842,
          11.199999809265137,
          5.300000190734863,
          5.800000190734863,
          11.300000190734863,
          1.5,
          1.899999976158142,
          3.4000000953674316,
          2.5,
          1.2999999523162842,
          3.799999952316284,
          1.7999999523162842,
          9.699999809265137,
          2.5999999046325684,
          1.7000000476837158,
          5.900000095367432,
          3.799999952316284,
          2,
          10.199999809265137,
          3.5999999046325684,
          0.699999988079071,
          9.399999618530273,
          1.399999976158142,
          8.100000381469727,
          3.0999999046325684,
          2.799999952316284,
          9.399999618530273,
          2.5999999046325684,
          1.600000023841858,
          2.5,
          5.199999809265137,
          6.699999809265137,
          3.799999952316284,
          2.200000047683716,
          1.899999976158142,
          8.199999809265137,
          2.799999952316284,
          0.20000000298023224,
          8.100000381469727,
          7.300000190734863,
          2,
          4.199999809265137,
          1.600000023841858,
          3.5999999046325684,
          4.900000095367432,
          1.899999976158142,
          3.700000047683716,
          1.899999976158142,
          2.299999952316284,
          4.599999904632568,
          4.400000095367432,
          4.5,
          1.7000000476837158,
          4.599999904632568,
          3.200000047683716,
          10.300000190734863,
          6.099999904632568,
          4.599999904632568,
          4.300000190734863,
          1.7000000476837158,
          1,
          6.5,
          3.200000047683716,
          6.5,
          2.4000000953674316,
          5.599999904632568,
          3.5,
          1.7000000476837158,
          2.0999999046325684,
          2.4000000953674316,
          2.299999952316284,
          4.199999809265137,
          0,
          2.0999999046325684,
          2.4000000953674316,
          6.5,
          3.299999952316284,
          10.699999809265137,
          3.5,
          7.699999809265137,
          6.099999904632568,
          2,
          5.099999904632568,
          10.199999809265137,
          4.599999904632568,
          11.100000381469727,
          2.299999952316284,
          4.900000095367432,
          4.199999809265137,
          3,
          0.699999988079071,
          8.600000381469727,
          2.5,
          4.199999809265137,
          3.200000047683716,
          2.299999952316284,
          5.800000190734863,
          3.700000047683716,
          4.300000190734863,
          2.799999952316284,
          3.4000000953674316,
          4.300000190734863,
          2.9000000953674316,
          2.700000047683716,
          7.699999809265137,
          2.5999999046325684,
          5.300000190734863,
          3.799999952316284,
          13.100000381469727,
          1.2999999523162842,
          5.400000095367432,
          2.9000000953674316,
          10,
          3.4000000953674316,
          8.5,
          7.099999904632568,
          9.5,
          3.9000000953674316,
          6.599999904632568,
          4.5,
          5,
          6.900000095367432,
          1.7999999523162842,
          3.799999952316284,
          4.400000095367432,
          6.300000190734863,
          1.2000000476837158,
          8,
          3.5999999046325684,
          2,
          2,
          2.799999952316284,
          1.100000023841858,
          3.0999999046325684,
          2.0999999046325684,
          10.800000190734863,
          3.5999999046325684,
          4,
          5.800000190734863,
          2.9000000953674316,
          4.900000095367432,
          6.400000095367432,
          2.5,
          1.7999999523162842,
          2,
          4.599999904632568,
          2.200000047683716,
          5.099999904632568,
          2.5,
          3.4000000953674316,
          1.7999999523162842,
          3.0999999046325684,
          2.799999952316284,
          3.0999999046325684,
          2.299999952316284,
          7.400000095367432,
          4.300000190734863,
          5.800000190734863,
          5.300000190734863,
          3.700000047683716,
          3.799999952316284,
          3.299999952316284,
          3.299999952316284
         ],
         "yaxis": "y2"
        }
       ],
       "layout": {
        "annotations": [
         {
          "font": {
           "size": 16
          },
          "showarrow": false,
          "text": "Scores",
          "x": 0.225,
          "xanchor": "center",
          "xref": "paper",
          "y": 1,
          "yanchor": "bottom",
          "yref": "paper"
         },
         {
          "font": {
           "size": 16
          },
          "showarrow": false,
          "text": "Magnitudes",
          "x": 0.775,
          "xanchor": "center",
          "xref": "paper",
          "y": 1,
          "yanchor": "bottom",
          "yref": "paper"
         }
        ],
        "height": 600,
        "template": {
         "data": {
          "bar": [
           {
            "error_x": {
             "color": "#2a3f5f"
            },
            "error_y": {
             "color": "#2a3f5f"
            },
            "marker": {
             "line": {
              "color": "#E5ECF6",
              "width": 0.5
             }
            },
            "type": "bar"
           }
          ],
          "barpolar": [
           {
            "marker": {
             "line": {
              "color": "#E5ECF6",
              "width": 0.5
             }
            },
            "type": "barpolar"
           }
          ],
          "carpet": [
           {
            "aaxis": {
             "endlinecolor": "#2a3f5f",
             "gridcolor": "white",
             "linecolor": "white",
             "minorgridcolor": "white",
             "startlinecolor": "#2a3f5f"
            },
            "baxis": {
             "endlinecolor": "#2a3f5f",
             "gridcolor": "white",
             "linecolor": "white",
             "minorgridcolor": "white",
             "startlinecolor": "#2a3f5f"
            },
            "type": "carpet"
           }
          ],
          "choropleth": [
           {
            "colorbar": {
             "outlinewidth": 0,
             "ticks": ""
            },
            "type": "choropleth"
           }
          ],
          "contour": [
           {
            "colorbar": {
             "outlinewidth": 0,
             "ticks": ""
            },
            "colorscale": [
             [
              0,
              "#0d0887"
             ],
             [
              0.1111111111111111,
              "#46039f"
             ],
             [
              0.2222222222222222,
              "#7201a8"
             ],
             [
              0.3333333333333333,
              "#9c179e"
             ],
             [
              0.4444444444444444,
              "#bd3786"
             ],
             [
              0.5555555555555556,
              "#d8576b"
             ],
             [
              0.6666666666666666,
              "#ed7953"
             ],
             [
              0.7777777777777778,
              "#fb9f3a"
             ],
             [
              0.8888888888888888,
              "#fdca26"
             ],
             [
              1,
              "#f0f921"
             ]
            ],
            "type": "contour"
           }
          ],
          "contourcarpet": [
           {
            "colorbar": {
             "outlinewidth": 0,
             "ticks": ""
            },
            "type": "contourcarpet"
           }
          ],
          "heatmap": [
           {
            "colorbar": {
             "outlinewidth": 0,
             "ticks": ""
            },
            "colorscale": [
             [
              0,
              "#0d0887"
             ],
             [
              0.1111111111111111,
              "#46039f"
             ],
             [
              0.2222222222222222,
              "#7201a8"
             ],
             [
              0.3333333333333333,
              "#9c179e"
             ],
             [
              0.4444444444444444,
              "#bd3786"
             ],
             [
              0.5555555555555556,
              "#d8576b"
             ],
             [
              0.6666666666666666,
              "#ed7953"
             ],
             [
              0.7777777777777778,
              "#fb9f3a"
             ],
             [
              0.8888888888888888,
              "#fdca26"
             ],
             [
              1,
              "#f0f921"
             ]
            ],
            "type": "heatmap"
           }
          ],
          "heatmapgl": [
           {
            "colorbar": {
             "outlinewidth": 0,
             "ticks": ""
            },
            "colorscale": [
             [
              0,
              "#0d0887"
             ],
             [
              0.1111111111111111,
              "#46039f"
             ],
             [
              0.2222222222222222,
              "#7201a8"
             ],
             [
              0.3333333333333333,
              "#9c179e"
             ],
             [
              0.4444444444444444,
              "#bd3786"
             ],
             [
              0.5555555555555556,
              "#d8576b"
             ],
             [
              0.6666666666666666,
              "#ed7953"
             ],
             [
              0.7777777777777778,
              "#fb9f3a"
             ],
             [
              0.8888888888888888,
              "#fdca26"
             ],
             [
              1,
              "#f0f921"
             ]
            ],
            "type": "heatmapgl"
           }
          ],
          "histogram": [
           {
            "marker": {
             "colorbar": {
              "outlinewidth": 0,
              "ticks": ""
             }
            },
            "type": "histogram"
           }
          ],
          "histogram2d": [
           {
            "colorbar": {
             "outlinewidth": 0,
             "ticks": ""
            },
            "colorscale": [
             [
              0,
              "#0d0887"
             ],
             [
              0.1111111111111111,
              "#46039f"
             ],
             [
              0.2222222222222222,
              "#7201a8"
             ],
             [
              0.3333333333333333,
              "#9c179e"
             ],
             [
              0.4444444444444444,
              "#bd3786"
             ],
             [
              0.5555555555555556,
              "#d8576b"
             ],
             [
              0.6666666666666666,
              "#ed7953"
             ],
             [
              0.7777777777777778,
              "#fb9f3a"
             ],
             [
              0.8888888888888888,
              "#fdca26"
             ],
             [
              1,
              "#f0f921"
             ]
            ],
            "type": "histogram2d"
           }
          ],
          "histogram2dcontour": [
           {
            "colorbar": {
             "outlinewidth": 0,
             "ticks": ""
            },
            "colorscale": [
             [
              0,
              "#0d0887"
             ],
             [
              0.1111111111111111,
              "#46039f"
             ],
             [
              0.2222222222222222,
              "#7201a8"
             ],
             [
              0.3333333333333333,
              "#9c179e"
             ],
             [
              0.4444444444444444,
              "#bd3786"
             ],
             [
              0.5555555555555556,
              "#d8576b"
             ],
             [
              0.6666666666666666,
              "#ed7953"
             ],
             [
              0.7777777777777778,
              "#fb9f3a"
             ],
             [
              0.8888888888888888,
              "#fdca26"
             ],
             [
              1,
              "#f0f921"
             ]
            ],
            "type": "histogram2dcontour"
           }
          ],
          "mesh3d": [
           {
            "colorbar": {
             "outlinewidth": 0,
             "ticks": ""
            },
            "type": "mesh3d"
           }
          ],
          "parcoords": [
           {
            "line": {
             "colorbar": {
              "outlinewidth": 0,
              "ticks": ""
             }
            },
            "type": "parcoords"
           }
          ],
          "pie": [
           {
            "automargin": true,
            "type": "pie"
           }
          ],
          "scatter": [
           {
            "marker": {
             "colorbar": {
              "outlinewidth": 0,
              "ticks": ""
             }
            },
            "type": "scatter"
           }
          ],
          "scatter3d": [
           {
            "line": {
             "colorbar": {
              "outlinewidth": 0,
              "ticks": ""
             }
            },
            "marker": {
             "colorbar": {
              "outlinewidth": 0,
              "ticks": ""
             }
            },
            "type": "scatter3d"
           }
          ],
          "scattercarpet": [
           {
            "marker": {
             "colorbar": {
              "outlinewidth": 0,
              "ticks": ""
             }
            },
            "type": "scattercarpet"
           }
          ],
          "scattergeo": [
           {
            "marker": {
             "colorbar": {
              "outlinewidth": 0,
              "ticks": ""
             }
            },
            "type": "scattergeo"
           }
          ],
          "scattergl": [
           {
            "marker": {
             "colorbar": {
              "outlinewidth": 0,
              "ticks": ""
             }
            },
            "type": "scattergl"
           }
          ],
          "scattermapbox": [
           {
            "marker": {
             "colorbar": {
              "outlinewidth": 0,
              "ticks": ""
             }
            },
            "type": "scattermapbox"
           }
          ],
          "scatterpolar": [
           {
            "marker": {
             "colorbar": {
              "outlinewidth": 0,
              "ticks": ""
             }
            },
            "type": "scatterpolar"
           }
          ],
          "scatterpolargl": [
           {
            "marker": {
             "colorbar": {
              "outlinewidth": 0,
              "ticks": ""
             }
            },
            "type": "scatterpolargl"
           }
          ],
          "scatterternary": [
           {
            "marker": {
             "colorbar": {
              "outlinewidth": 0,
              "ticks": ""
             }
            },
            "type": "scatterternary"
           }
          ],
          "surface": [
           {
            "colorbar": {
             "outlinewidth": 0,
             "ticks": ""
            },
            "colorscale": [
             [
              0,
              "#0d0887"
             ],
             [
              0.1111111111111111,
              "#46039f"
             ],
             [
              0.2222222222222222,
              "#7201a8"
             ],
             [
              0.3333333333333333,
              "#9c179e"
             ],
             [
              0.4444444444444444,
              "#bd3786"
             ],
             [
              0.5555555555555556,
              "#d8576b"
             ],
             [
              0.6666666666666666,
              "#ed7953"
             ],
             [
              0.7777777777777778,
              "#fb9f3a"
             ],
             [
              0.8888888888888888,
              "#fdca26"
             ],
             [
              1,
              "#f0f921"
             ]
            ],
            "type": "surface"
           }
          ],
          "table": [
           {
            "cells": {
             "fill": {
              "color": "#EBF0F8"
             },
             "line": {
              "color": "white"
             }
            },
            "header": {
             "fill": {
              "color": "#C8D4E3"
             },
             "line": {
              "color": "white"
             }
            },
            "type": "table"
           }
          ]
         },
         "layout": {
          "annotationdefaults": {
           "arrowcolor": "#2a3f5f",
           "arrowhead": 0,
           "arrowwidth": 1
          },
          "coloraxis": {
           "colorbar": {
            "outlinewidth": 0,
            "ticks": ""
           }
          },
          "colorscale": {
           "diverging": [
            [
             0,
             "#8e0152"
            ],
            [
             0.1,
             "#c51b7d"
            ],
            [
             0.2,
             "#de77ae"
            ],
            [
             0.3,
             "#f1b6da"
            ],
            [
             0.4,
             "#fde0ef"
            ],
            [
             0.5,
             "#f7f7f7"
            ],
            [
             0.6,
             "#e6f5d0"
            ],
            [
             0.7,
             "#b8e186"
            ],
            [
             0.8,
             "#7fbc41"
            ],
            [
             0.9,
             "#4d9221"
            ],
            [
             1,
             "#276419"
            ]
           ],
           "sequential": [
            [
             0,
             "#0d0887"
            ],
            [
             0.1111111111111111,
             "#46039f"
            ],
            [
             0.2222222222222222,
             "#7201a8"
            ],
            [
             0.3333333333333333,
             "#9c179e"
            ],
            [
             0.4444444444444444,
             "#bd3786"
            ],
            [
             0.5555555555555556,
             "#d8576b"
            ],
            [
             0.6666666666666666,
             "#ed7953"
            ],
            [
             0.7777777777777778,
             "#fb9f3a"
            ],
            [
             0.8888888888888888,
             "#fdca26"
            ],
            [
             1,
             "#f0f921"
            ]
           ],
           "sequentialminus": [
            [
             0,
             "#0d0887"
            ],
            [
             0.1111111111111111,
             "#46039f"
            ],
            [
             0.2222222222222222,
             "#7201a8"
            ],
            [
             0.3333333333333333,
             "#9c179e"
            ],
            [
             0.4444444444444444,
             "#bd3786"
            ],
            [
             0.5555555555555556,
             "#d8576b"
            ],
            [
             0.6666666666666666,
             "#ed7953"
            ],
            [
             0.7777777777777778,
             "#fb9f3a"
            ],
            [
             0.8888888888888888,
             "#fdca26"
            ],
            [
             1,
             "#f0f921"
            ]
           ]
          },
          "colorway": [
           "#636efa",
           "#EF553B",
           "#00cc96",
           "#ab63fa",
           "#FFA15A",
           "#19d3f3",
           "#FF6692",
           "#B6E880",
           "#FF97FF",
           "#FECB52"
          ],
          "font": {
           "color": "#2a3f5f"
          },
          "geo": {
           "bgcolor": "white",
           "lakecolor": "white",
           "landcolor": "#E5ECF6",
           "showlakes": true,
           "showland": true,
           "subunitcolor": "white"
          },
          "hoverlabel": {
           "align": "left"
          },
          "hovermode": "closest",
          "mapbox": {
           "style": "light"
          },
          "paper_bgcolor": "white",
          "plot_bgcolor": "#E5ECF6",
          "polar": {
           "angularaxis": {
            "gridcolor": "white",
            "linecolor": "white",
            "ticks": ""
           },
           "bgcolor": "#E5ECF6",
           "radialaxis": {
            "gridcolor": "white",
            "linecolor": "white",
            "ticks": ""
           }
          },
          "scene": {
           "xaxis": {
            "backgroundcolor": "#E5ECF6",
            "gridcolor": "white",
            "gridwidth": 2,
            "linecolor": "white",
            "showbackground": true,
            "ticks": "",
            "zerolinecolor": "white"
           },
           "yaxis": {
            "backgroundcolor": "#E5ECF6",
            "gridcolor": "white",
            "gridwidth": 2,
            "linecolor": "white",
            "showbackground": true,
            "ticks": "",
            "zerolinecolor": "white"
           },
           "zaxis": {
            "backgroundcolor": "#E5ECF6",
            "gridcolor": "white",
            "gridwidth": 2,
            "linecolor": "white",
            "showbackground": true,
            "ticks": "",
            "zerolinecolor": "white"
           }
          },
          "shapedefaults": {
           "line": {
            "color": "#2a3f5f"
           }
          },
          "ternary": {
           "aaxis": {
            "gridcolor": "white",
            "linecolor": "white",
            "ticks": ""
           },
           "baxis": {
            "gridcolor": "white",
            "linecolor": "white",
            "ticks": ""
           },
           "bgcolor": "#E5ECF6",
           "caxis": {
            "gridcolor": "white",
            "linecolor": "white",
            "ticks": ""
           }
          },
          "title": {
           "x": 0.05
          },
          "xaxis": {
           "automargin": true,
           "gridcolor": "white",
           "linecolor": "white",
           "ticks": "",
           "title": {
            "standoff": 15
           },
           "zerolinecolor": "white",
           "zerolinewidth": 2
          },
          "yaxis": {
           "automargin": true,
           "gridcolor": "white",
           "linecolor": "white",
           "ticks": "",
           "title": {
            "standoff": 15
           },
           "zerolinecolor": "white",
           "zerolinewidth": 2
          }
         }
        },
        "title": {
         "text": "Resultados Google Natural Language API - Ingles x Portugues",
         "x": 0.05
        },
        "width": 1800,
        "xaxis": {
         "anchor": "y",
         "autorange": true,
         "domain": [
          0,
          0.45
         ],
         "range": [
          -0.5,
          1.5
         ],
         "type": "category"
        },
        "xaxis2": {
         "anchor": "y2",
         "autorange": true,
         "domain": [
          0.55,
          1
         ],
         "range": [
          -0.5,
          1.5
         ],
         "type": "category"
        },
        "yaxis": {
         "anchor": "x",
         "autorange": true,
         "domain": [
          0,
          1
         ],
         "range": [
          -0.9999999735090468,
          0.9999999735090468
         ],
         "type": "linear"
        },
        "yaxis2": {
         "anchor": "x2",
         "autorange": true,
         "domain": [
          0,
          1
         ],
         "range": [
          -1.677777820163303,
          31.877778583102756
         ],
         "type": "linear"
        }
       }
      },
      "image/png": "[encoded data removed]",
      "text/html": [
       "<div>\n",
       "        \n",
       "        \n",
       "            <div id=\"8505ebeb-8529-4ca2-bed2-5153ea4ab24a\" class=\"plotly-graph-div\" style=\"height:600px; width:1800px;\"></div>\n",
       "            <script type=\"text/javascript\">\n",
       "                require([\"plotly\"], function(Plotly) {\n",
       "                    window.PLOTLYENV=window.PLOTLYENV || {};\n",
       "                    \n",
       "                if (document.getElementById(\"8505ebeb-8529-4ca2-bed2-5153ea4ab24a\")) {\n",
       "                    Plotly.newPlot(\n",
       "                        '8505ebeb-8529-4ca2-bed2-5153ea4ab24a',\n",
       "                        [{\"name\": \"score_en\", \"type\": \"box\", \"xaxis\": \"x\", \"y\": [-0.30000001192092896, 0.6000000238418579, 0.5, 0.0, 0.20000000298023224, -0.10000000149011612, 0.0, 0.0, 0.0, 0.0, -0.5, -0.20000000298023224, -0.800000011920929, -0.10000000149011612, -0.10000000149011612, 0.30000001192092896, -0.4000000059604645, -0.800000011920929, -0.699999988079071, -0.10000000149011612, 0.5, 0.6000000238418579, -0.20000000298023224, 0.0, -0.20000000298023224, 0.5, -0.10000000149011612, -0.20000000298023224, 0.0, -0.5, 0.20000000298023224, 0.0, 0.4000000059604645, 0.4000000059604645, 0.5, 0.30000001192092896, -0.10000000149011612, -0.10000000149011612, 0.5, -0.6000000238418579, 0.10000000149011612, 0.10000000149011612, -0.4000000059604645, -0.10000000149011612, 0.4000000059604645, 0.0, -0.4000000059604645, -0.30000001192092896, -0.20000000298023224, -0.10000000149011612, 0.6000000238418579, 0.0, 0.699999988079071, -0.20000000298023224, 0.10000000149011612, -0.10000000149011612, -0.10000000149011612, 0.0, 0.0, 0.0, -0.30000001192092896, -0.20000000298023224, 0.0, -0.6000000238418579, 0.0, 0.0, -0.30000001192092896, -0.30000001192092896, -0.20000000298023224, -0.699999988079071, 0.10000000149011612, -0.6000000238418579, 0.30000001192092896, -0.10000000149011612, -0.30000001192092896, 0.20000000298023224, -0.20000000298023224, 0.0, -0.20000000298023224, 0.0, -0.30000001192092896, 0.6000000238418579, 0.699999988079071, -0.4000000059604645, -0.10000000149011612, 0.20000000298023224, 0.0, 0.6000000238418579, -0.10000000149011612, 0.0, -0.20000000298023224, -0.20000000298023224, 0.30000001192092896, -0.30000001192092896, 0.0, -0.20000000298023224, 0.4000000059604645, 0.30000001192092896, 0.6000000238418579, -0.10000000149011612, -0.800000011920929, 0.4000000059604645, 0.6000000238418579, -0.4000000059604645, -0.20000000298023224, -0.30000001192092896, -0.30000001192092896, 0.0, 0.20000000298023224, 0.0, 0.30000001192092896, -0.10000000149011612, 0.800000011920929, -0.10000000149011612, -0.30000001192092896, 0.0, 0.20000000298023224, 0.0, 0.0, 0.5, 0.4000000059604645, 0.6000000238418579, 0.0, -0.30000001192092896, 0.699999988079071, 0.10000000149011612, 0.0, -0.5, 0.0, -0.30000001192092896, 0.30000001192092896, -0.30000001192092896, 0.0, -0.20000000298023224, 0.4000000059604645, -0.20000000298023224, 0.0, -0.20000000298023224, -0.30000001192092896, 0.30000001192092896, -0.5, -0.10000000149011612, 0.0, -0.5, 0.6000000238418579, 0.0, -0.4000000059604645, 0.4000000059604645, -0.20000000298023224, 0.0, 0.5, -0.20000000298023224, 0.20000000298023224, 0.6000000238418579, -0.4000000059604645, -0.20000000298023224, 0.0, 0.0, 0.6000000238418579, 0.699999988079071, -0.699999988079071, 0.0, -0.20000000298023224, 0.0, -0.4000000059604645, 0.20000000298023224, 0.0, 0.0, -0.699999988079071, 0.0, 0.699999988079071, -0.30000001192092896, -0.30000001192092896, 0.0, -0.4000000059604645, 0.0, 0.30000001192092896, -0.4000000059604645, -0.20000000298023224, 0.0, 0.30000001192092896, -0.5, -0.30000001192092896, -0.10000000149011612, 0.4000000059604645, -0.4000000059604645, 0.10000000149011612, 0.0, -0.10000000149011612, -0.5, -0.30000001192092896, 0.30000001192092896, 0.0, -0.6000000238418579, -0.30000001192092896, -0.30000001192092896, -0.20000000298023224, 0.20000000298023224, 0.30000001192092896, -0.4000000059604645, 0.0, -0.30000001192092896, 0.6000000238418579, -0.30000001192092896, 0.0, 0.4000000059604645, 0.10000000149011612, -0.10000000149011612, 0.20000000298023224, -0.20000000298023224, 0.10000000149011612, -0.30000001192092896, 0.0, 0.0, -0.10000000149011612, -0.10000000149011612, 0.4000000059604645, -0.20000000298023224, -0.20000000298023224, 0.0, 0.5, 0.4000000059604645, 0.6000000238418579, -0.699999988079071, 0.800000011920929, 0.0, -0.5, 0.20000000298023224, -0.6000000238418579, 0.30000001192092896, 0.4000000059604645, 0.10000000149011612, 0.20000000298023224, 0.10000000149011612, 0.10000000149011612, -0.30000001192092896, -0.10000000149011612, 0.0, 0.6000000238418579, -0.10000000149011612, -0.10000000149011612, -0.30000001192092896, -0.4000000059604645, 0.10000000149011612, -0.10000000149011612, -0.30000001192092896, -0.30000001192092896, 0.20000000298023224, 0.10000000149011612, -0.30000001192092896, 0.0, 0.30000001192092896, -0.20000000298023224, 0.30000001192092896, -0.5, 0.0, -0.30000001192092896, -0.20000000298023224, 0.0, 0.0, 0.10000000149011612, 0.0, 0.30000001192092896, 0.4000000059604645, -0.10000000149011612, 0.699999988079071, 0.10000000149011612, 0.4000000059604645, 0.30000001192092896, 0.30000001192092896, -0.20000000298023224, -0.8999999761581421, -0.699999988079071, 0.4000000059604645, 0.20000000298023224, 0.0, -0.10000000149011612, 0.5, -0.30000001192092896, 0.4000000059604645, 0.20000000298023224, -0.20000000298023224, 0.4000000059604645, 0.10000000149011612, -0.20000000298023224, 0.0, 0.8999999761581421, 0.0, 0.10000000149011612, 0.4000000059604645, 0.8999999761581421, -0.10000000149011612, 0.30000001192092896, -0.6000000238418579, 0.30000001192092896, 0.20000000298023224, 0.699999988079071, -0.10000000149011612, 0.10000000149011612, 0.0, -0.4000000059604645, -0.20000000298023224, 0.10000000149011612, 0.10000000149011612, 0.10000000149011612, 0.0, -0.30000001192092896, -0.699999988079071, -0.10000000149011612, 0.0, -0.699999988079071, -0.5, -0.699999988079071, 0.20000000298023224, 0.20000000298023224, -0.30000001192092896, 0.5, -0.699999988079071, 0.10000000149011612, 0.5, -0.10000000149011612, -0.30000001192092896, -0.10000000149011612, 0.10000000149011612, 0.10000000149011612, -0.20000000298023224, 0.10000000149011612, -0.699999988079071, -0.20000000298023224, 0.20000000298023224, -0.20000000298023224, -0.5, 0.0, -0.10000000149011612, 0.20000000298023224, -0.30000001192092896, -0.4000000059604645, 0.30000001192092896, 0.0, -0.5, 0.0, 0.20000000298023224, 0.0, 0.20000000298023224, -0.6000000238418579, 0.10000000149011612, 0.4000000059604645, -0.10000000149011612, 0.800000011920929, -0.5, -0.5, -0.20000000298023224, -0.30000001192092896, 0.10000000149011612, -0.699999988079071, 0.30000001192092896, -0.6000000238418579, -0.5, 0.10000000149011612, -0.20000000298023224, -0.6000000238418579, 0.30000001192092896, 0.0, 0.0, 0.800000011920929, -0.4000000059604645, 0.30000001192092896, -0.8999999761581421, -0.4000000059604645, 0.30000001192092896, 0.4000000059604645, 0.5, -0.30000001192092896, -0.30000001192092896, 0.20000000298023224, -0.20000000298023224, -0.30000001192092896, -0.20000000298023224, 0.0, -0.20000000298023224, -0.10000000149011612], \"yaxis\": \"y\"}, {\"name\": \"score_pt\", \"type\": \"box\", \"xaxis\": \"x\", \"y\": [-0.20000000298023224, 0.30000001192092896, 0.20000000298023224, 0.20000000298023224, 0.20000000298023224, -0.20000000298023224, 0.0, 0.0, 0.0, 0.10000000149011612, -0.30000001192092896, 0.0, -0.10000000149011612, 0.0, 0.0, 0.20000000298023224, -0.10000000149011612, -0.10000000149011612, -0.5, 0.0, 0.30000001192092896, 0.30000001192092896, 0.10000000149011612, 0.0, 0.20000000298023224, 0.10000000149011612, 0.0, -0.20000000298023224, 0.0, 0.0, 0.20000000298023224, 0.0, 0.20000000298023224, 0.10000000149011612, 0.4000000059604645, 0.10000000149011612, 0.0, 0.0, 0.10000000149011612, -0.10000000149011612, 0.20000000298023224, 0.10000000149011612, 0.10000000149011612, 0.10000000149011612, 0.0, 0.0, 0.0, 0.0, 0.0, -0.10000000149011612, 0.0, 0.10000000149011612, 0.0, -0.30000001192092896, 0.10000000149011612, 0.0, 0.0, 0.0, 0.0, -0.10000000149011612, 0.0, -0.10000000149011612, 0.0, -0.10000000149011612, 0.0, 0.20000000298023224, 0.0, -0.10000000149011612, -0.10000000149011612, -0.10000000149011612, 0.10000000149011612, 0.10000000149011612, 0.10000000149011612, 0.20000000298023224, 0.0, 0.20000000298023224, 0.0, 0.10000000149011612, -0.20000000298023224, 0.0, -0.10000000149011612, 0.4000000059604645, 0.30000001192092896, -0.10000000149011612, 0.0, 0.30000001192092896, 0.0, 0.4000000059604645, 0.0, 0.0, 0.10000000149011612, 0.0, 0.10000000149011612, -0.30000001192092896, 0.20000000298023224, -0.10000000149011612, 0.30000001192092896, 0.0, 0.0, 0.0, 0.0, 0.4000000059604645, 0.30000001192092896, -0.10000000149011612, 0.0, -0.30000001192092896, 0.0, 0.10000000149011612, 0.20000000298023224, 0.0, 0.10000000149011612, 0.0, 0.4000000059604645, 0.0, 0.0, 0.0, 0.20000000298023224, 0.0, 0.0, 0.30000001192092896, 0.0, 0.4000000059604645, 0.4000000059604645, 0.0, 0.5, 0.10000000149011612, 0.0, -0.20000000298023224, 0.0, 0.0, 0.10000000149011612, -0.20000000298023224, 0.0, -0.10000000149011612, 0.0, 0.0, 0.0, 0.0, 0.0, 0.30000001192092896, -0.20000000298023224, 0.0, 0.0, -0.30000001192092896, 0.20000000298023224, 0.20000000298023224, -0.10000000149011612, 0.30000001192092896, -0.10000000149011612, 0.10000000149011612, 0.10000000149011612, 0.0, -0.10000000149011612, 0.20000000298023224, 0.0, -0.20000000298023224, 0.0, 0.10000000149011612, 0.5, 0.5, -0.30000001192092896, 0.0, 0.10000000149011612, 0.10000000149011612, 0.0, 0.20000000298023224, 0.20000000298023224, 0.20000000298023224, -0.5, 0.10000000149011612, 0.30000001192092896, -0.10000000149011612, -0.10000000149011612, 0.0, -0.20000000298023224, 0.10000000149011612, 0.4000000059604645, -0.10000000149011612, 0.0, 0.0, 0.30000001192092896, 0.0, 0.0, 0.10000000149011612, 0.0, 0.0, -0.10000000149011612, 0.0, 0.10000000149011612, -0.10000000149011612, -0.10000000149011612, 0.30000001192092896, -0.20000000298023224, -0.10000000149011612, -0.10000000149011612, 0.0, 0.0, 0.20000000298023224, 0.4000000059604645, -0.10000000149011612, 0.0, 0.0, 0.699999988079071, -0.10000000149011612, -0.10000000149011612, 0.0, 0.4000000059604645, 0.0, 0.20000000298023224, 0.0, 0.20000000298023224, -0.20000000298023224, 0.30000001192092896, 0.0, 0.0, 0.0, 0.10000000149011612, 0.0, 0.30000001192092896, 0.0, 0.30000001192092896, 0.0, 0.5, -0.20000000298023224, 0.4000000059604645, 0.0, -0.20000000298023224, 0.0, -0.30000001192092896, 0.10000000149011612, 0.10000000149011612, 0.0, 0.0, 0.10000000149011612, 0.30000001192092896, -0.10000000149011612, 0.0, 0.10000000149011612, 0.0, 0.0, 0.0, -0.10000000149011612, 0.0, 0.0, 0.0, 0.0, -0.30000001192092896, 0.20000000298023224, 0.0, 0.0, 0.10000000149011612, 0.20000000298023224, 0.0, 0.0, 0.0, 0.0, 0.0, -0.10000000149011612, 0.0, 0.30000001192092896, 0.20000000298023224, 0.0, 0.6000000238418579, 0.30000001192092896, 0.0, 0.4000000059604645, -0.10000000149011612, 0.30000001192092896, 0.30000001192092896, 0.0, -0.5, -0.4000000059604645, -0.20000000298023224, 0.4000000059604645, 0.0, 0.0, 0.0, 0.10000000149011612, 0.0, 0.30000001192092896, 0.10000000149011612, 0.0, 0.20000000298023224, 0.10000000149011612, -0.20000000298023224, -0.20000000298023224, 0.5, 0.30000001192092896, 0.10000000149011612, 0.10000000149011612, 0.0, 0.0, 0.10000000149011612, 0.0, 0.10000000149011612, 0.0, 0.5, 0.0, 0.20000000298023224, -0.10000000149011612, -0.10000000149011612, 0.0, 0.20000000298023224, 0.20000000298023224, 0.0, 0.0, -0.20000000298023224, -0.10000000149011612, 0.10000000149011612, 0.20000000298023224, -0.20000000298023224, -0.10000000149011612, 0.0, 0.30000001192092896, 0.0, 0.0, 0.30000001192092896, -0.10000000149011612, 0.0, 0.0, 0.20000000298023224, 0.0, 0.0, 0.20000000298023224, 0.0, 0.0, 0.0, -0.4000000059604645, 0.0, 0.30000001192092896, -0.10000000149011612, -0.30000001192092896, 0.10000000149011612, 0.0, 0.10000000149011612, -0.20000000298023224, 0.0, 0.20000000298023224, -0.10000000149011612, -0.20000000298023224, 0.10000000149011612, 0.10000000149011612, 0.0, 0.0, -0.20000000298023224, 0.20000000298023224, 0.10000000149011612, 0.0, 0.20000000298023224, 0.10000000149011612, -0.20000000298023224, 0.0, 0.30000001192092896, 0.30000001192092896, 0.0, 0.30000001192092896, -0.10000000149011612, -0.10000000149011612, 0.0, -0.10000000149011612, 0.0, 0.20000000298023224, -0.10000000149011612, 0.0, 0.30000001192092896, -0.10000000149011612, 0.20000000298023224, -0.30000001192092896, 0.10000000149011612, 0.30000001192092896, 0.20000000298023224, 0.0, 0.0, -0.20000000298023224, 0.0, -0.10000000149011612, -0.20000000298023224, 0.0, 0.0, 0.0, 0.10000000149011612], \"yaxis\": \"y\"}, {\"name\": \"magnitude_en\", \"type\": \"box\", \"xaxis\": \"x2\", \"y\": [5.900000095367432, 5.400000095367432, 1.600000023841858, 1.2999999523162842, 4.199999809265137, 5.300000190734863, 2.0999999046325684, 1.600000023841858, 11.600000381469727, 4.599999904632568, 7.900000095367432, 3.0999999046325684, 1.7000000476837158, 2.200000047683716, 8.5, 6.300000190734863, 7.199999809265137, 6.400000095367432, 3.0, 1.399999976158142, 2.0999999046325684, 10.199999809265137, 3.0999999046325684, 4.300000190734863, 3.299999952316284, 1.899999976158142, 5.5, 3.0999999046325684, 11.899999618530273, 3.0, 4.300000190734863, 7.099999904632568, 8.899999618530273, 4.5, 8.300000190734863, 4.400000095367432, 7.300000190734863, 3.799999952316284, 1.7000000476837158, 6.400000095367432, 3.4000000953674316, 7.0, 9.5, 3.5, 5.0, 7.699999809265137, 2.0999999046325684, 8.600000381469727, 7.0, 8.0, 2.700000047683716, 14.100000381469727, 3.5, 7.599999904632568, 1.899999976158142, 3.299999952316284, 5.0, 6.400000095367432, 8.399999618530273, 1.5, 3.299999952316284, 10.100000381469727, 4.199999809265137, 4.699999809265137, 2.9000000953674316, 2.4000000953674316, 5.0, 8.0, 7.0, 3.9000000953674316, 6.199999809265137, 2.700000047683716, 5.5, 1.399999976158142, 5.400000095367432, 3.200000047683716, 3.4000000953674316, 11.399999618530273, 5.800000190734863, 1.0, 8.5, 4.0, 3.0, 3.9000000953674316, 5.300000190734863, 0.5, 12.399999618530273, 0.6000000238418579, 3.0, 1.899999976158142, 7.0, 7.900000095367432, 4.199999809265137, 5.099999904632568, 10.0, 4.199999809265137, 7.099999904632568, 3.200000047683716, 2.700000047683716, 30.200000762939453, 2.5, 1.399999976158142, 5.199999809265137, 6.699999809265137, 2.9000000953674316, 7.699999809265137, 8.600000381469727, 6.800000190734863, 6.5, 5.0, 2.5, 1.2999999523162842, 0.800000011920929, 7.699999809265137, 3.700000047683716, 8.600000381469727, 4.0, 2.4000000953674316, 1.2000000476837158, 3.799999952316284, 3.299999952316284, 2.5999999046325684, 1.5, 5.199999809265137, 12.399999618530273, 5.300000190734863, 9.800000190734863, 4.300000190734863, 3.299999952316284, 6.099999904632568, 3.299999952316284, 5.199999809265137, 2.0, 3.5, 3.200000047683716, 12.300000190734863, 2.9000000953674316, 3.4000000953674316, 6.900000095367432, 8.5, 11.800000190734863, 7.199999809265137, 3.200000047683716, 7.0, 3.0, 1.600000023841858, 7.099999904632568, 2.5, 3.5999999046325684, 7.300000190734863, 3.700000047683716, 3.0999999046325684, 3.9000000953674316, 1.7999999523162842, 6.599999904632568, 2.0999999046325684, 2.4000000953674316, 12.399999618530273, 7.300000190734863, 5.699999809265137, 4.300000190734863, 3.4000000953674316, 7.0, 1.2999999523162842, 5.300000190734863, 3.799999952316284, 1.600000023841858, 2.5999999046325684, 4.300000190734863, 6.5, 3.9000000953674316, 3.9000000953674316, 5.800000190734863, 5.400000095367432, 9.899999618530273, 6.199999809265137, 2.299999952316284, 22.0, 5.800000190734863, 14.699999809265137, 6.599999904632568, 6.300000190734863, 4.599999904632568, 6.5, 3.0999999046325684, 6.099999904632568, 5.599999904632568, 11.699999809265137, 4.5, 4.599999904632568, 2.700000047683716, 6.0, 3.799999952316284, 6.699999809265137, 5.900000095367432, 2.9000000953674316, 2.700000047683716, 3.4000000953674316, 5.400000095367432, 5.199999809265137, 5.099999904632568, 7.0, 4.199999809265137, 1.0, 6.099999904632568, 4.099999904632568, 0.30000001192092896, 17.899999618530273, 8.5, 3.700000047683716, 5.900000095367432, 2.299999952316284, 8.100000381469727, 4.599999904632568, 9.100000381469727, 4.099999904632568, 3.5999999046325684, 4.699999809265137, 2.299999952316284, 11.5, 5.699999809265137, 4.699999809265137, 9.800000190734863, 3.0999999046325684, 1.600000023841858, 3.5, 1.0, 1.7999999523162842, 6.300000190734863, 3.5, 10.699999809265137, 5.099999904632568, 3.200000047683716, 6.199999809265137, 3.5999999046325684, 5.400000095367432, 13.0, 5.400000095367432, 2.700000047683716, 11.899999618530273, 1.5, 8.699999809265137, 4.0, 2.0, 12.800000190734863, 5.099999904632568, 3.0999999046325684, 3.0999999046325684, 3.5999999046325684, 6.599999904632568, 5.400000095367432, 1.2000000476837158, 4.0, 9.800000190734863, 3.700000047683716, 2.799999952316284, 10.399999618530273, 7.300000190734863, 2.299999952316284, 2.9000000953674316, 1.899999976158142, 6.400000095367432, 3.4000000953674316, 0.8999999761581421, 1.399999976158142, 2.799999952316284, 3.200000047683716, 5.900000095367432, 3.0999999046325684, 4.300000190734863, 1.7999999523162842, 1.899999976158142, 2.299999952316284, 8.800000190734863, 6.599999904632568, 4.300000190734863, 5.599999904632568, 3.799999952316284, 2.5, 5.5, 2.0999999046325684, 11.0, 2.5, 8.399999618530273, 4.400000095367432, 2.5999999046325684, 1.899999976158142, 3.299999952316284, 2.299999952316284, 3.799999952316284, 0.8999999761581421, 3.0, 2.200000047683716, 5.300000190734863, 3.0, 9.100000381469727, 3.799999952316284, 10.399999618530273, 6.800000190734863, 2.0, 8.0, 9.800000190734863, 5.699999809265137, 10.199999809265137, 5.199999809265137, 4.400000095367432, 4.5, 4.300000190734863, 2.5999999046325684, 9.300000190734863, 4.599999904632568, 4.099999904632568, 2.9000000953674316, 1.5, 7.5, 3.700000047683716, 5.400000095367432, 5.199999809265137, 2.0999999046325684, 6.199999809265137, 2.5999999046325684, 2.200000047683716, 4.599999904632568, 2.299999952316284, 5.699999809265137, 5.099999904632568, 13.100000381469727, 2.299999952316284, 3.9000000953674316, 3.0, 10.800000190734863, 5.0, 7.300000190734863, 7.599999904632568, 8.199999809265137, 4.900000095367432, 8.899999618530273, 3.700000047683716, 3.9000000953674316, 10.800000190734863, 4.300000190734863, 4.5, 4.300000190734863, 9.100000381469727, 2.5, 6.599999904632568, 4.599999904632568, 3.9000000953674316, 5.0, 3.4000000953674316, 1.7000000476837158, 2.9000000953674316, 0.699999988079071, 11.899999618530273, 6.199999809265137, 3.5999999046325684, 8.800000190734863, 6.099999904632568, 8.300000190734863, 3.700000047683716, 4.699999809265137, 2.299999952316284, 2.0, 5.400000095367432, 3.200000047683716, 7.599999904632568, 3.0999999046325684, 0.8999999761581421, 1.7000000476837158, 2.9000000953674316, 3.5, 6.400000095367432, 2.299999952316284, 6.199999809265137, 3.4000000953674316, 9.399999618530273, 6.599999904632568, 4.599999904632568, 5.599999904632568, 5.5, 2.9000000953674316], \"yaxis\": \"y2\"}, {\"name\": \"magnitude_pt\", \"type\": \"box\", \"xaxis\": \"x2\", \"y\": [6.300000190734863, 4.900000095367432, 1.0, 1.7000000476837158, 3.0999999046325684, 2.299999952316284, 3.0, 3.5, 11.199999809265137, 4.0, 7.199999809265137, 6.199999809265137, 1.100000023841858, 1.100000023841858, 10.0, 4.699999809265137, 3.299999952316284, 5.800000190734863, 2.0, 1.7999999523162842, 4.400000095367432, 2.700000047683716, 2.799999952316284, 4.699999809265137, 2.9000000953674316, 2.299999952316284, 2.0999999046325684, 2.0, 8.100000381469727, 2.5, 3.299999952316284, 6.5, 6.099999904632568, 3.5, 6.099999904632568, 4.599999904632568, 7.199999809265137, 3.0, 2.299999952316284, 5.0, 3.799999952316284, 6.900000095367432, 7.599999904632568, 1.2000000476837158, 2.700000047683716, 7.300000190734863, 1.399999976158142, 6.900000095367432, 3.200000047683716, 5.199999809265137, 0.800000011920929, 11.800000190734863, 1.899999976158142, 2.9000000953674316, 0.800000011920929, 5.199999809265137, 5.5, 4.699999809265137, 7.5, 1.100000023841858, 3.0999999046325684, 7.599999904632568, 7.0, 4.199999809265137, 3.4000000953674316, 1.2000000476837158, 3.5, 7.0, 5.599999904632568, 1.7999999523162842, 4.800000190734863, 3.299999952316284, 6.0, 2.0, 4.099999904632568, 3.0999999046325684, 1.2000000476837158, 11.699999809265137, 7.099999904632568, 0.699999988079071, 5.099999904632568, 2.9000000953674316, 3.200000047683716, 2.299999952316284, 7.800000190734863, 1.5, 11.699999809265137, 0.4000000059604645, 4.300000190734863, 1.5, 7.0, 9.5, 3.0999999046325684, 3.0999999046325684, 8.899999618530273, 5.5, 6.800000190734863, 2.5, 1.100000023841858, 25.799999237060547, 0.5, 1.2999999523162842, 3.0, 4.5, 2.9000000953674316, 6.900000095367432, 6.099999904632568, 7.5, 4.699999809265137, 3.700000047683716, 2.4000000953674316, 0.10000000149011612, 0.8999999761581421, 7.400000095367432, 2.4000000953674316, 6.599999904632568, 2.9000000953674316, 3.200000047683716, 4.0, 2.5, 1.5, 2.299999952316284, 0.800000011920929, 5.0, 8.600000381469727, 4.300000190734863, 8.899999618530273, 2.9000000953674316, 3.5999999046325684, 3.9000000953674316, 1.7999999523162842, 4.699999809265137, 1.7000000476837158, 1.600000023841858, 2.299999952316284, 11.5, 2.700000047683716, 4.199999809265137, 6.099999904632568, 6.900000095367432, 9.199999809265137, 5.099999904632568, 3.299999952316284, 6.699999809265137, 2.4000000953674316, 1.399999976158142, 4.199999809265137, 2.200000047683716, 2.5, 7.099999904632568, 1.399999976158142, 1.2000000476837158, 2.799999952316284, 1.0, 5.199999809265137, 2.799999952316284, 2.5, 11.600000381469727, 6.0, 5.400000095367432, 2.5, 2.799999952316284, 6.199999809265137, 2.200000047683716, 8.300000190734863, 3.200000047683716, 2.0999999046325684, 4.599999904632568, 3.5, 7.0, 2.799999952316284, 3.9000000953674316, 4.900000095367432, 3.9000000953674316, 8.5, 7.699999809265137, 2.799999952316284, 14.600000381469727, 3.4000000953674316, 10.100000381469727, 6.800000190734863, 2.9000000953674316, 4.0, 5.199999809265137, 2.5999999046325684, 3.9000000953674316, 5.800000190734863, 12.300000190734863, 8.100000381469727, 4.099999904632568, 3.9000000953674316, 6.199999809265137, 5.599999904632568, 5.199999809265137, 5.0, 2.5, 2.799999952316284, 3.9000000953674316, 4.0, 2.9000000953674316, 4.5, 6.0, 4.900000095367432, 4.800000190734863, 9.399999618530273, 3.200000047683716, 0.8999999761581421, 13.199999809265137, 6.300000190734863, 3.4000000953674316, 7.300000190734863, 1.7999999523162842, 10.199999809265137, 6.300000190734863, 11.100000381469727, 5.400000095367432, 2.299999952316284, 6.5, 1.7999999523162842, 11.199999809265137, 5.300000190734863, 5.800000190734863, 11.300000190734863, 1.5, 1.899999976158142, 3.4000000953674316, 2.5, 1.2999999523162842, 3.799999952316284, 1.7999999523162842, 9.699999809265137, 2.5999999046325684, 1.7000000476837158, 5.900000095367432, 3.799999952316284, 2.0, 10.199999809265137, 3.5999999046325684, 0.699999988079071, 9.399999618530273, 1.399999976158142, 8.100000381469727, 3.0999999046325684, 2.799999952316284, 9.399999618530273, 2.5999999046325684, 1.600000023841858, 2.5, 5.199999809265137, 6.699999809265137, 3.799999952316284, 2.200000047683716, 1.899999976158142, 8.199999809265137, 2.799999952316284, 0.20000000298023224, 8.100000381469727, 7.300000190734863, 2.0, 4.199999809265137, 1.600000023841858, 3.5999999046325684, 4.900000095367432, 1.899999976158142, 3.700000047683716, 1.899999976158142, 2.299999952316284, 4.599999904632568, 4.400000095367432, 4.5, 1.7000000476837158, 4.599999904632568, 3.200000047683716, 10.300000190734863, 6.099999904632568, 4.599999904632568, 4.300000190734863, 1.7000000476837158, 1.0, 6.5, 3.200000047683716, 6.5, 2.4000000953674316, 5.599999904632568, 3.5, 1.7000000476837158, 2.0999999046325684, 2.4000000953674316, 2.299999952316284, 4.199999809265137, 0.0, 2.0999999046325684, 2.4000000953674316, 6.5, 3.299999952316284, 10.699999809265137, 3.5, 7.699999809265137, 6.099999904632568, 2.0, 5.099999904632568, 10.199999809265137, 4.599999904632568, 11.100000381469727, 2.299999952316284, 4.900000095367432, 4.199999809265137, 3.0, 0.699999988079071, 8.600000381469727, 2.5, 4.199999809265137, 3.200000047683716, 2.299999952316284, 5.800000190734863, 3.700000047683716, 4.300000190734863, 2.799999952316284, 3.4000000953674316, 4.300000190734863, 2.9000000953674316, 2.700000047683716, 7.699999809265137, 2.5999999046325684, 5.300000190734863, 3.799999952316284, 13.100000381469727, 1.2999999523162842, 5.400000095367432, 2.9000000953674316, 10.0, 3.4000000953674316, 8.5, 7.099999904632568, 9.5, 3.9000000953674316, 6.599999904632568, 4.5, 5.0, 6.900000095367432, 1.7999999523162842, 3.799999952316284, 4.400000095367432, 6.300000190734863, 1.2000000476837158, 8.0, 3.5999999046325684, 2.0, 2.0, 2.799999952316284, 1.100000023841858, 3.0999999046325684, 2.0999999046325684, 10.800000190734863, 3.5999999046325684, 4.0, 5.800000190734863, 2.9000000953674316, 4.900000095367432, 6.400000095367432, 2.5, 1.7999999523162842, 2.0, 4.599999904632568, 2.200000047683716, 5.099999904632568, 2.5, 3.4000000953674316, 1.7999999523162842, 3.0999999046325684, 2.799999952316284, 3.0999999046325684, 2.299999952316284, 7.400000095367432, 4.300000190734863, 5.800000190734863, 5.300000190734863, 3.700000047683716, 3.799999952316284, 3.299999952316284, 3.299999952316284], \"yaxis\": \"y2\"}],\n",
       "                        {\"annotations\": [{\"font\": {\"size\": 16}, \"showarrow\": false, \"text\": \"Scores\", \"x\": 0.225, \"xanchor\": \"center\", \"xref\": \"paper\", \"y\": 1.0, \"yanchor\": \"bottom\", \"yref\": \"paper\"}, {\"font\": {\"size\": 16}, \"showarrow\": false, \"text\": \"Magnitudes\", \"x\": 0.775, \"xanchor\": \"center\", \"xref\": \"paper\", \"y\": 1.0, \"yanchor\": \"bottom\", \"yref\": \"paper\"}], \"height\": 600, \"template\": {\"data\": {\"bar\": [{\"error_x\": {\"color\": \"#2a3f5f\"}, \"error_y\": {\"color\": \"#2a3f5f\"}, \"marker\": {\"line\": {\"color\": \"#E5ECF6\", \"width\": 0.5}}, \"type\": \"bar\"}], \"barpolar\": [{\"marker\": {\"line\": {\"color\": \"#E5ECF6\", \"width\": 0.5}}, \"type\": \"barpolar\"}], \"carpet\": [{\"aaxis\": {\"endlinecolor\": \"#2a3f5f\", \"gridcolor\": \"white\", \"linecolor\": \"white\", \"minorgridcolor\": \"white\", \"startlinecolor\": \"#2a3f5f\"}, \"baxis\": {\"endlinecolor\": \"#2a3f5f\", \"gridcolor\": \"white\", \"linecolor\": \"white\", \"minorgridcolor\": \"white\", \"startlinecolor\": \"#2a3f5f\"}, \"type\": \"carpet\"}], \"choropleth\": [{\"colorbar\": {\"outlinewidth\": 0, \"ticks\": \"\"}, \"type\": \"choropleth\"}], \"contour\": [{\"colorbar\": {\"outlinewidth\": 0, \"ticks\": \"\"}, \"colorscale\": [[0.0, \"#0d0887\"], [0.1111111111111111, \"#46039f\"], [0.2222222222222222, \"#7201a8\"], [0.3333333333333333, \"#9c179e\"], [0.4444444444444444, \"#bd3786\"], [0.5555555555555556, \"#d8576b\"], [0.6666666666666666, \"#ed7953\"], [0.7777777777777778, \"#fb9f3a\"], [0.8888888888888888, \"#fdca26\"], [1.0, \"#f0f921\"]], \"type\": \"contour\"}], \"contourcarpet\": [{\"colorbar\": {\"outlinewidth\": 0, \"ticks\": \"\"}, \"type\": \"contourcarpet\"}], \"heatmap\": [{\"colorbar\": {\"outlinewidth\": 0, \"ticks\": \"\"}, \"colorscale\": [[0.0, \"#0d0887\"], [0.1111111111111111, \"#46039f\"], [0.2222222222222222, \"#7201a8\"], [0.3333333333333333, \"#9c179e\"], [0.4444444444444444, \"#bd3786\"], [0.5555555555555556, \"#d8576b\"], [0.6666666666666666, \"#ed7953\"], [0.7777777777777778, \"#fb9f3a\"], [0.8888888888888888, \"#fdca26\"], [1.0, \"#f0f921\"]], \"type\": \"heatmap\"}], \"heatmapgl\": [{\"colorbar\": {\"outlinewidth\": 0, \"ticks\": \"\"}, \"colorscale\": [[0.0, \"#0d0887\"], [0.1111111111111111, \"#46039f\"], [0.2222222222222222, \"#7201a8\"], [0.3333333333333333, \"#9c179e\"], [0.4444444444444444, \"#bd3786\"], [0.5555555555555556, \"#d8576b\"], [0.6666666666666666, \"#ed7953\"], [0.7777777777777778, \"#fb9f3a\"], [0.8888888888888888, \"#fdca26\"], [1.0, \"#f0f921\"]], \"type\": \"heatmapgl\"}], \"histogram\": [{\"marker\": {\"colorbar\": {\"outlinewidth\": 0, \"ticks\": \"\"}}, \"type\": \"histogram\"}], \"histogram2d\": [{\"colorbar\": {\"outlinewidth\": 0, \"ticks\": \"\"}, \"colorscale\": [[0.0, \"#0d0887\"], [0.1111111111111111, \"#46039f\"], [0.2222222222222222, \"#7201a8\"], [0.3333333333333333, \"#9c179e\"], [0.4444444444444444, \"#bd3786\"], [0.5555555555555556, \"#d8576b\"], [0.6666666666666666, \"#ed7953\"], [0.7777777777777778, \"#fb9f3a\"], [0.8888888888888888, \"#fdca26\"], [1.0, \"#f0f921\"]], \"type\": \"histogram2d\"}], \"histogram2dcontour\": [{\"colorbar\": {\"outlinewidth\": 0, \"ticks\": \"\"}, \"colorscale\": [[0.0, \"#0d0887\"], [0.1111111111111111, \"#46039f\"], [0.2222222222222222, \"#7201a8\"], [0.3333333333333333, \"#9c179e\"], [0.4444444444444444, \"#bd3786\"], [0.5555555555555556, \"#d8576b\"], [0.6666666666666666, \"#ed7953\"], [0.7777777777777778, \"#fb9f3a\"], [0.8888888888888888, \"#fdca26\"], [1.0, \"#f0f921\"]], \"type\": \"histogram2dcontour\"}], \"mesh3d\": [{\"colorbar\": {\"outlinewidth\": 0, \"ticks\": \"\"}, \"type\": \"mesh3d\"}], \"parcoords\": [{\"line\": {\"colorbar\": {\"outlinewidth\": 0, \"ticks\": \"\"}}, \"type\": \"parcoords\"}], \"pie\": [{\"automargin\": true, \"type\": \"pie\"}], \"scatter\": [{\"marker\": {\"colorbar\": {\"outlinewidth\": 0, \"ticks\": \"\"}}, \"type\": \"scatter\"}], \"scatter3d\": [{\"line\": {\"colorbar\": {\"outlinewidth\": 0, \"ticks\": \"\"}}, \"marker\": {\"colorbar\": {\"outlinewidth\": 0, \"ticks\": \"\"}}, \"type\": \"scatter3d\"}], \"scattercarpet\": [{\"marker\": {\"colorbar\": {\"outlinewidth\": 0, \"ticks\": \"\"}}, \"type\": \"scattercarpet\"}], \"scattergeo\": [{\"marker\": {\"colorbar\": {\"outlinewidth\": 0, \"ticks\": \"\"}}, \"type\": \"scattergeo\"}], \"scattergl\": [{\"marker\": {\"colorbar\": {\"outlinewidth\": 0, \"ticks\": \"\"}}, \"type\": \"scattergl\"}], \"scattermapbox\": [{\"marker\": {\"colorbar\": {\"outlinewidth\": 0, \"ticks\": \"\"}}, \"type\": \"scattermapbox\"}], \"scatterpolar\": [{\"marker\": {\"colorbar\": {\"outlinewidth\": 0, \"ticks\": \"\"}}, \"type\": \"scatterpolar\"}], \"scatterpolargl\": [{\"marker\": {\"colorbar\": {\"outlinewidth\": 0, \"ticks\": \"\"}}, \"type\": \"scatterpolargl\"}], \"scatterternary\": [{\"marker\": {\"colorbar\": {\"outlinewidth\": 0, \"ticks\": \"\"}}, \"type\": \"scatterternary\"}], \"surface\": [{\"colorbar\": {\"outlinewidth\": 0, \"ticks\": \"\"}, \"colorscale\": [[0.0, \"#0d0887\"], [0.1111111111111111, \"#46039f\"], [0.2222222222222222, \"#7201a8\"], [0.3333333333333333, \"#9c179e\"], [0.4444444444444444, \"#bd3786\"], [0.5555555555555556, \"#d8576b\"], [0.6666666666666666, \"#ed7953\"], [0.7777777777777778, \"#fb9f3a\"], [0.8888888888888888, \"#fdca26\"], [1.0, \"#f0f921\"]], \"type\": \"surface\"}], \"table\": [{\"cells\": {\"fill\": {\"color\": \"#EBF0F8\"}, \"line\": {\"color\": \"white\"}}, \"header\": {\"fill\": {\"color\": \"#C8D4E3\"}, \"line\": {\"color\": \"white\"}}, \"type\": \"table\"}]}, \"layout\": {\"annotationdefaults\": {\"arrowcolor\": \"#2a3f5f\", \"arrowhead\": 0, \"arrowwidth\": 1}, \"coloraxis\": {\"colorbar\": {\"outlinewidth\": 0, \"ticks\": \"\"}}, \"colorscale\": {\"diverging\": [[0, \"#8e0152\"], [0.1, \"#c51b7d\"], [0.2, \"#de77ae\"], [0.3, \"#f1b6da\"], [0.4, \"#fde0ef\"], [0.5, \"#f7f7f7\"], [0.6, \"#e6f5d0\"], [0.7, \"#b8e186\"], [0.8, \"#7fbc41\"], [0.9, \"#4d9221\"], [1, \"#276419\"]], \"sequential\": [[0.0, \"#0d0887\"], [0.1111111111111111, \"#46039f\"], [0.2222222222222222, \"#7201a8\"], [0.3333333333333333, \"#9c179e\"], [0.4444444444444444, \"#bd3786\"], [0.5555555555555556, \"#d8576b\"], [0.6666666666666666, \"#ed7953\"], [0.7777777777777778, \"#fb9f3a\"], [0.8888888888888888, \"#fdca26\"], [1.0, \"#f0f921\"]], \"sequentialminus\": [[0.0, \"#0d0887\"], [0.1111111111111111, \"#46039f\"], [0.2222222222222222, \"#7201a8\"], [0.3333333333333333, \"#9c179e\"], [0.4444444444444444, \"#bd3786\"], [0.5555555555555556, \"#d8576b\"], [0.6666666666666666, \"#ed7953\"], [0.7777777777777778, \"#fb9f3a\"], [0.8888888888888888, \"#fdca26\"], [1.0, \"#f0f921\"]]}, \"colorway\": [\"#636efa\", \"#EF553B\", \"#00cc96\", \"#ab63fa\", \"#FFA15A\", \"#19d3f3\", \"#FF6692\", \"#B6E880\", \"#FF97FF\", \"#FECB52\"], \"font\": {\"color\": \"#2a3f5f\"}, \"geo\": {\"bgcolor\": \"white\", \"lakecolor\": \"white\", \"landcolor\": \"#E5ECF6\", \"showlakes\": true, \"showland\": true, \"subunitcolor\": \"white\"}, \"hoverlabel\": {\"align\": \"left\"}, \"hovermode\": \"closest\", \"mapbox\": {\"style\": \"light\"}, \"paper_bgcolor\": \"white\", \"plot_bgcolor\": \"#E5ECF6\", \"polar\": {\"angularaxis\": {\"gridcolor\": \"white\", \"linecolor\": \"white\", \"ticks\": \"\"}, \"bgcolor\": \"#E5ECF6\", \"radialaxis\": {\"gridcolor\": \"white\", \"linecolor\": \"white\", \"ticks\": \"\"}}, \"scene\": {\"xaxis\": {\"backgroundcolor\": \"#E5ECF6\", \"gridcolor\": \"white\", \"gridwidth\": 2, \"linecolor\": \"white\", \"showbackground\": true, \"ticks\": \"\", \"zerolinecolor\": \"white\"}, \"yaxis\": {\"backgroundcolor\": \"#E5ECF6\", \"gridcolor\": \"white\", \"gridwidth\": 2, \"linecolor\": \"white\", \"showbackground\": true, \"ticks\": \"\", \"zerolinecolor\": \"white\"}, \"zaxis\": {\"backgroundcolor\": \"#E5ECF6\", \"gridcolor\": \"white\", \"gridwidth\": 2, \"linecolor\": \"white\", \"showbackground\": true, \"ticks\": \"\", \"zerolinecolor\": \"white\"}}, \"shapedefaults\": {\"line\": {\"color\": \"#2a3f5f\"}}, \"ternary\": {\"aaxis\": {\"gridcolor\": \"white\", \"linecolor\": \"white\", \"ticks\": \"\"}, \"baxis\": {\"gridcolor\": \"white\", \"linecolor\": \"white\", \"ticks\": \"\"}, \"bgcolor\": \"#E5ECF6\", \"caxis\": {\"gridcolor\": \"white\", \"linecolor\": \"white\", \"ticks\": \"\"}}, \"title\": {\"x\": 0.05}, \"xaxis\": {\"automargin\": true, \"gridcolor\": \"white\", \"linecolor\": \"white\", \"ticks\": \"\", \"title\": {\"standoff\": 15}, \"zerolinecolor\": \"white\", \"zerolinewidth\": 2}, \"yaxis\": {\"automargin\": true, \"gridcolor\": \"white\", \"linecolor\": \"white\", \"ticks\": \"\", \"title\": {\"standoff\": 15}, \"zerolinecolor\": \"white\", \"zerolinewidth\": 2}}}, \"title\": {\"text\": \"Resultados Google Natural Language API - Ingles x Portugues\", \"x\": 0.05}, \"width\": 1800, \"xaxis\": {\"anchor\": \"y\", \"domain\": [0.0, 0.45]}, \"xaxis2\": {\"anchor\": \"y2\", \"domain\": [0.55, 1.0]}, \"yaxis\": {\"anchor\": \"x\", \"domain\": [0.0, 1.0]}, \"yaxis2\": {\"anchor\": \"x2\", \"domain\": [0.0, 1.0]}},\n",
       "                        {\"responsive\": true}\n",
       "                    ).then(function(){\n",
       "                            \n",
       "var gd = document.getElementById('8505ebeb-8529-4ca2-bed2-5153ea4ab24a');\n",
       "var x = new MutationObserver(function (mutations, observer) {{\n",
       "        var display = window.getComputedStyle(gd).display;\n",
       "        if (!display || display === 'none') {{\n",
       "            console.log([gd, 'removed!']);\n",
       "            Plotly.purge(gd);\n",
       "            observer.disconnect();\n",
       "        }}\n",
       "}});\n",
       "\n",
       "// Listen for the removal of the full notebook cells\n",
       "var notebookContainer = gd.closest('#notebook-container');\n",
       "if (notebookContainer) {{\n",
       "    x.observe(notebookContainer, {childList: true});\n",
       "}}\n",
       "\n",
       "// Listen for the clearing of the current output cell\n",
       "var outputEl = gd.closest('.output');\n",
       "if (outputEl) {{\n",
       "    x.observe(outputEl, {childList: true});\n",
       "}}\n",
       "\n",
       "                        })\n",
       "                };\n",
       "                });\n",
       "            </script>\n",
       "        </div>"
      ]
     },
     "metadata": {},
     "output_type": "display_data"
    }
   ],
   "source": [
    "#import plotly.io as pio\n",
    "import chart_studio\n",
    "# Plotando Boxplot\n",
    "y1 = amostra.score_en\n",
    "y2 = amostra.score_pt\n",
    "y3 = amostra.magnitude_en\n",
    "y4 = amostra.magnitude_pt\n",
    "\n",
    "fig1 = make_subplots(rows=1, cols=2, subplot_titles=(\"Scores\", \"Magnitudes\"))\n",
    "\n",
    "fig1.add_trace(go.Box(y=y1, name='score_en'), row=1, col=1)\n",
    "fig1.add_trace(go.Box(y=y2, name='score_pt'), row=1, col=1)\n",
    "fig1.add_trace(go.Box(y=y3, name='magnitude_en'), row=1, col=2)\n",
    "fig1.add_trace(go.Box(y=y4, name='magnitude_pt'), row=1, col=2)\n",
    "\n",
    "fig1.update_layout(height=600, width=1800, title_text=\"Resultados Google Natural Language API - Ingles x Portugues\", title_x =0.05)\n",
    "fig1.show()\n",
    "\n",
    "#pio.write_html(fig, file='boxplot.html', auto_open=True)"
   ]
  },
  {
   "cell_type": "markdown",
   "metadata": {},
   "source": [
    "Do Box Plot podemos ver uma considerável diferença em amplitudes nos scores. Enquanto que na Língua Inglesa tivemos uma uma grande variação de valores, os sscores para a Língua Portuguesa se concentraram ao redor de 0, com a exceção de alguns Outliers."
   ]
  },
  {
   "cell_type": "markdown",
   "metadata": {},
   "source": [
    "A fim de termos uma visualização mais intuitiva dos resultados, iremos classificá-los em **Positivos, Neutros ou Negativos**, segundo seu score. [Demonstração da API Natural Language](https://cloud.google.com/natural-language)"
   ]
  },
  {
   "cell_type": "code",
   "execution_count": 489,
   "metadata": {
    "ExecuteTime": {
     "end_time": "2020-01-17T23:30:44.670242Z",
     "start_time": "2020-01-17T23:30:44.658364Z"
    },
    "colab": {},
    "colab_type": "code",
    "id": "LC8MfxxfVdr4"
   },
   "outputs": [],
   "source": [
    "# Classificando scores em Positivo, Neutro ou Negativo\n",
    "conditions1 = [    \n",
    "    (amostra['score_en'] > 0.25),\n",
    "    (amostra['score_en'] <= 0.25) & (amostra['score_en'] >= -0.25 ),\n",
    "    (amostra['score_en'] < -0.25 ),\n",
    "    ]\n",
    "conditions2 = [    \n",
    "    (amostra['score_pt'] > 0.25 ),\n",
    "    (amostra['score_pt'] <= 0.25) & (amostra['score_pt'] >= -0.25 ),\n",
    "    (amostra['score_pt'] < -0.25 ),\n",
    "    ]\n",
    "choices = ['pos','neutro','neg']\n",
    "\n",
    "amostra['sentiment_en'] = np.select(conditions1, choices, default='null')\n",
    "amostra['sentiment_pt'] = np.select(conditions2, choices, default='null')"
   ]
  },
  {
   "cell_type": "markdown",
   "metadata": {},
   "source": [
    "###  Score Range ( 1 a -1 )\n",
    "\n",
    "- Positivo > 0.25   **(37.5%)**\n",
    "- Neutro <= 0.25 e >=-0.25   **(25%)**\n",
    "- Negativo < -0.25  **(37.5%)**"
   ]
  },
  {
   "cell_type": "code",
   "execution_count": 545,
   "metadata": {},
   "outputs": [],
   "source": [
    "a1 = amostra.groupby('sentiment_en').count()\n",
    "a2 = amostra.groupby('sentiment_pt').count()\n",
    "neutro1 = a1.loc[\"neutro\"].id \n",
    "neg1 = a1.loc[\"neg\"].id \n",
    "pos1 = a1.loc[\"pos\"].id \n",
    "neutro2 = a2.loc[\"neutro\"].id\n",
    "neg2 = a2.loc[\"neg\"].id \n",
    "pos2 = a2.loc[\"pos\"].id"
   ]
  },
  {
   "cell_type": "code",
   "execution_count": 587,
   "metadata": {},
   "outputs": [
    {
     "data": {
      "application/vnd.plotly.v1+json": {
       "config": {
        "plotlyServerURL": "https://plot.ly"
       },
       "data": [
        {
         "domain": {
          "x": [
           0,
           0.45
          ],
          "y": [
           0,
           1
          ]
         },
         "hoverinfo": "label+percent+name",
         "labels": [
          "Neutro",
          "Pos",
          "Neg"
         ],
         "marker": {
          "colors": [
           "rgb(244, 180, 0)",
           "rgb(66, 133, 244)",
           "rgb(219, 68, 55)"
          ],
          "line": {
           "color": "rgb(101,101,101)",
           "width": 1.5
          }
         },
         "name": "Ingles",
         "textfont": {
          "size": 18
         },
         "textinfo": "percent+label",
         "textposition": "inside",
         "type": "pie",
         "values": [
          199,
          85,
          97
         ]
        },
        {
         "domain": {
          "x": [
           0.55,
           1
          ],
          "y": [
           0,
           1
          ]
         },
         "hoverinfo": "label+percent+name",
         "labels": [
          "Neutro",
          "Pos",
          "Neg"
         ],
         "marker": {
          "colors": [
           "rgb(244, 180, 0)",
           "rgb(66, 133, 244)",
           "rgb(219, 68, 55)"
          ],
          "line": {
           "color": "rgb(101,101,101)",
           "width": 1.5
          }
         },
         "name": "Portugues",
         "textfont": {
          "size": 18
         },
         "textinfo": "percent+label",
         "textposition": "inside",
         "type": "pie",
         "values": [
          314,
          52,
          15
         ]
        }
       ],
       "layout": {
        "annotations": [
         {
          "font": {
           "size": 16
          },
          "showarrow": false,
          "text": "Ingles",
          "x": 0.225,
          "xanchor": "center",
          "xref": "paper",
          "y": 1,
          "yanchor": "bottom",
          "yref": "paper"
         },
         {
          "font": {
           "size": 16
          },
          "showarrow": false,
          "text": "Portugues",
          "x": 0.775,
          "xanchor": "center",
          "xref": "paper",
          "y": 1,
          "yanchor": "bottom",
          "yref": "paper"
         }
        ],
        "height": 550,
        "showlegend": false,
        "template": {
         "data": {
          "bar": [
           {
            "error_x": {
             "color": "#2a3f5f"
            },
            "error_y": {
             "color": "#2a3f5f"
            },
            "marker": {
             "line": {
              "color": "#E5ECF6",
              "width": 0.5
             }
            },
            "type": "bar"
           }
          ],
          "barpolar": [
           {
            "marker": {
             "line": {
              "color": "#E5ECF6",
              "width": 0.5
             }
            },
            "type": "barpolar"
           }
          ],
          "carpet": [
           {
            "aaxis": {
             "endlinecolor": "#2a3f5f",
             "gridcolor": "white",
             "linecolor": "white",
             "minorgridcolor": "white",
             "startlinecolor": "#2a3f5f"
            },
            "baxis": {
             "endlinecolor": "#2a3f5f",
             "gridcolor": "white",
             "linecolor": "white",
             "minorgridcolor": "white",
             "startlinecolor": "#2a3f5f"
            },
            "type": "carpet"
           }
          ],
          "choropleth": [
           {
            "colorbar": {
             "outlinewidth": 0,
             "ticks": ""
            },
            "type": "choropleth"
           }
          ],
          "contour": [
           {
            "colorbar": {
             "outlinewidth": 0,
             "ticks": ""
            },
            "colorscale": [
             [
              0,
              "#0d0887"
             ],
             [
              0.1111111111111111,
              "#46039f"
             ],
             [
              0.2222222222222222,
              "#7201a8"
             ],
             [
              0.3333333333333333,
              "#9c179e"
             ],
             [
              0.4444444444444444,
              "#bd3786"
             ],
             [
              0.5555555555555556,
              "#d8576b"
             ],
             [
              0.6666666666666666,
              "#ed7953"
             ],
             [
              0.7777777777777778,
              "#fb9f3a"
             ],
             [
              0.8888888888888888,
              "#fdca26"
             ],
             [
              1,
              "#f0f921"
             ]
            ],
            "type": "contour"
           }
          ],
          "contourcarpet": [
           {
            "colorbar": {
             "outlinewidth": 0,
             "ticks": ""
            },
            "type": "contourcarpet"
           }
          ],
          "heatmap": [
           {
            "colorbar": {
             "outlinewidth": 0,
             "ticks": ""
            },
            "colorscale": [
             [
              0,
              "#0d0887"
             ],
             [
              0.1111111111111111,
              "#46039f"
             ],
             [
              0.2222222222222222,
              "#7201a8"
             ],
             [
              0.3333333333333333,
              "#9c179e"
             ],
             [
              0.4444444444444444,
              "#bd3786"
             ],
             [
              0.5555555555555556,
              "#d8576b"
             ],
             [
              0.6666666666666666,
              "#ed7953"
             ],
             [
              0.7777777777777778,
              "#fb9f3a"
             ],
             [
              0.8888888888888888,
              "#fdca26"
             ],
             [
              1,
              "#f0f921"
             ]
            ],
            "type": "heatmap"
           }
          ],
          "heatmapgl": [
           {
            "colorbar": {
             "outlinewidth": 0,
             "ticks": ""
            },
            "colorscale": [
             [
              0,
              "#0d0887"
             ],
             [
              0.1111111111111111,
              "#46039f"
             ],
             [
              0.2222222222222222,
              "#7201a8"
             ],
             [
              0.3333333333333333,
              "#9c179e"
             ],
             [
              0.4444444444444444,
              "#bd3786"
             ],
             [
              0.5555555555555556,
              "#d8576b"
             ],
             [
              0.6666666666666666,
              "#ed7953"
             ],
             [
              0.7777777777777778,
              "#fb9f3a"
             ],
             [
              0.8888888888888888,
              "#fdca26"
             ],
             [
              1,
              "#f0f921"
             ]
            ],
            "type": "heatmapgl"
           }
          ],
          "histogram": [
           {
            "marker": {
             "colorbar": {
              "outlinewidth": 0,
              "ticks": ""
             }
            },
            "type": "histogram"
           }
          ],
          "histogram2d": [
           {
            "colorbar": {
             "outlinewidth": 0,
             "ticks": ""
            },
            "colorscale": [
             [
              0,
              "#0d0887"
             ],
             [
              0.1111111111111111,
              "#46039f"
             ],
             [
              0.2222222222222222,
              "#7201a8"
             ],
             [
              0.3333333333333333,
              "#9c179e"
             ],
             [
              0.4444444444444444,
              "#bd3786"
             ],
             [
              0.5555555555555556,
              "#d8576b"
             ],
             [
              0.6666666666666666,
              "#ed7953"
             ],
             [
              0.7777777777777778,
              "#fb9f3a"
             ],
             [
              0.8888888888888888,
              "#fdca26"
             ],
             [
              1,
              "#f0f921"
             ]
            ],
            "type": "histogram2d"
           }
          ],
          "histogram2dcontour": [
           {
            "colorbar": {
             "outlinewidth": 0,
             "ticks": ""
            },
            "colorscale": [
             [
              0,
              "#0d0887"
             ],
             [
              0.1111111111111111,
              "#46039f"
             ],
             [
              0.2222222222222222,
              "#7201a8"
             ],
             [
              0.3333333333333333,
              "#9c179e"
             ],
             [
              0.4444444444444444,
              "#bd3786"
             ],
             [
              0.5555555555555556,
              "#d8576b"
             ],
             [
              0.6666666666666666,
              "#ed7953"
             ],
             [
              0.7777777777777778,
              "#fb9f3a"
             ],
             [
              0.8888888888888888,
              "#fdca26"
             ],
             [
              1,
              "#f0f921"
             ]
            ],
            "type": "histogram2dcontour"
           }
          ],
          "mesh3d": [
           {
            "colorbar": {
             "outlinewidth": 0,
             "ticks": ""
            },
            "type": "mesh3d"
           }
          ],
          "parcoords": [
           {
            "line": {
             "colorbar": {
              "outlinewidth": 0,
              "ticks": ""
             }
            },
            "type": "parcoords"
           }
          ],
          "pie": [
           {
            "automargin": true,
            "type": "pie"
           }
          ],
          "scatter": [
           {
            "marker": {
             "colorbar": {
              "outlinewidth": 0,
              "ticks": ""
             }
            },
            "type": "scatter"
           }
          ],
          "scatter3d": [
           {
            "line": {
             "colorbar": {
              "outlinewidth": 0,
              "ticks": ""
             }
            },
            "marker": {
             "colorbar": {
              "outlinewidth": 0,
              "ticks": ""
             }
            },
            "type": "scatter3d"
           }
          ],
          "scattercarpet": [
           {
            "marker": {
             "colorbar": {
              "outlinewidth": 0,
              "ticks": ""
             }
            },
            "type": "scattercarpet"
           }
          ],
          "scattergeo": [
           {
            "marker": {
             "colorbar": {
              "outlinewidth": 0,
              "ticks": ""
             }
            },
            "type": "scattergeo"
           }
          ],
          "scattergl": [
           {
            "marker": {
             "colorbar": {
              "outlinewidth": 0,
              "ticks": ""
             }
            },
            "type": "scattergl"
           }
          ],
          "scattermapbox": [
           {
            "marker": {
             "colorbar": {
              "outlinewidth": 0,
              "ticks": ""
             }
            },
            "type": "scattermapbox"
           }
          ],
          "scatterpolar": [
           {
            "marker": {
             "colorbar": {
              "outlinewidth": 0,
              "ticks": ""
             }
            },
            "type": "scatterpolar"
           }
          ],
          "scatterpolargl": [
           {
            "marker": {
             "colorbar": {
              "outlinewidth": 0,
              "ticks": ""
             }
            },
            "type": "scatterpolargl"
           }
          ],
          "scatterternary": [
           {
            "marker": {
             "colorbar": {
              "outlinewidth": 0,
              "ticks": ""
             }
            },
            "type": "scatterternary"
           }
          ],
          "surface": [
           {
            "colorbar": {
             "outlinewidth": 0,
             "ticks": ""
            },
            "colorscale": [
             [
              0,
              "#0d0887"
             ],
             [
              0.1111111111111111,
              "#46039f"
             ],
             [
              0.2222222222222222,
              "#7201a8"
             ],
             [
              0.3333333333333333,
              "#9c179e"
             ],
             [
              0.4444444444444444,
              "#bd3786"
             ],
             [
              0.5555555555555556,
              "#d8576b"
             ],
             [
              0.6666666666666666,
              "#ed7953"
             ],
             [
              0.7777777777777778,
              "#fb9f3a"
             ],
             [
              0.8888888888888888,
              "#fdca26"
             ],
             [
              1,
              "#f0f921"
             ]
            ],
            "type": "surface"
           }
          ],
          "table": [
           {
            "cells": {
             "fill": {
              "color": "#EBF0F8"
             },
             "line": {
              "color": "white"
             }
            },
            "header": {
             "fill": {
              "color": "#C8D4E3"
             },
             "line": {
              "color": "white"
             }
            },
            "type": "table"
           }
          ]
         },
         "layout": {
          "annotationdefaults": {
           "arrowcolor": "#2a3f5f",
           "arrowhead": 0,
           "arrowwidth": 1
          },
          "coloraxis": {
           "colorbar": {
            "outlinewidth": 0,
            "ticks": ""
           }
          },
          "colorscale": {
           "diverging": [
            [
             0,
             "#8e0152"
            ],
            [
             0.1,
             "#c51b7d"
            ],
            [
             0.2,
             "#de77ae"
            ],
            [
             0.3,
             "#f1b6da"
            ],
            [
             0.4,
             "#fde0ef"
            ],
            [
             0.5,
             "#f7f7f7"
            ],
            [
             0.6,
             "#e6f5d0"
            ],
            [
             0.7,
             "#b8e186"
            ],
            [
             0.8,
             "#7fbc41"
            ],
            [
             0.9,
             "#4d9221"
            ],
            [
             1,
             "#276419"
            ]
           ],
           "sequential": [
            [
             0,
             "#0d0887"
            ],
            [
             0.1111111111111111,
             "#46039f"
            ],
            [
             0.2222222222222222,
             "#7201a8"
            ],
            [
             0.3333333333333333,
             "#9c179e"
            ],
            [
             0.4444444444444444,
             "#bd3786"
            ],
            [
             0.5555555555555556,
             "#d8576b"
            ],
            [
             0.6666666666666666,
             "#ed7953"
            ],
            [
             0.7777777777777778,
             "#fb9f3a"
            ],
            [
             0.8888888888888888,
             "#fdca26"
            ],
            [
             1,
             "#f0f921"
            ]
           ],
           "sequentialminus": [
            [
             0,
             "#0d0887"
            ],
            [
             0.1111111111111111,
             "#46039f"
            ],
            [
             0.2222222222222222,
             "#7201a8"
            ],
            [
             0.3333333333333333,
             "#9c179e"
            ],
            [
             0.4444444444444444,
             "#bd3786"
            ],
            [
             0.5555555555555556,
             "#d8576b"
            ],
            [
             0.6666666666666666,
             "#ed7953"
            ],
            [
             0.7777777777777778,
             "#fb9f3a"
            ],
            [
             0.8888888888888888,
             "#fdca26"
            ],
            [
             1,
             "#f0f921"
            ]
           ]
          },
          "colorway": [
           "#636efa",
           "#EF553B",
           "#00cc96",
           "#ab63fa",
           "#FFA15A",
           "#19d3f3",
           "#FF6692",
           "#B6E880",
           "#FF97FF",
           "#FECB52"
          ],
          "font": {
           "color": "#2a3f5f"
          },
          "geo": {
           "bgcolor": "white",
           "lakecolor": "white",
           "landcolor": "#E5ECF6",
           "showlakes": true,
           "showland": true,
           "subunitcolor": "white"
          },
          "hoverlabel": {
           "align": "left"
          },
          "hovermode": "closest",
          "mapbox": {
           "style": "light"
          },
          "paper_bgcolor": "white",
          "plot_bgcolor": "#E5ECF6",
          "polar": {
           "angularaxis": {
            "gridcolor": "white",
            "linecolor": "white",
            "ticks": ""
           },
           "bgcolor": "#E5ECF6",
           "radialaxis": {
            "gridcolor": "white",
            "linecolor": "white",
            "ticks": ""
           }
          },
          "scene": {
           "xaxis": {
            "backgroundcolor": "#E5ECF6",
            "gridcolor": "white",
            "gridwidth": 2,
            "linecolor": "white",
            "showbackground": true,
            "ticks": "",
            "zerolinecolor": "white"
           },
           "yaxis": {
            "backgroundcolor": "#E5ECF6",
            "gridcolor": "white",
            "gridwidth": 2,
            "linecolor": "white",
            "showbackground": true,
            "ticks": "",
            "zerolinecolor": "white"
           },
           "zaxis": {
            "backgroundcolor": "#E5ECF6",
            "gridcolor": "white",
            "gridwidth": 2,
            "linecolor": "white",
            "showbackground": true,
            "ticks": "",
            "zerolinecolor": "white"
           }
          },
          "shapedefaults": {
           "line": {
            "color": "#2a3f5f"
           }
          },
          "ternary": {
           "aaxis": {
            "gridcolor": "white",
            "linecolor": "white",
            "ticks": ""
           },
           "baxis": {
            "gridcolor": "white",
            "linecolor": "white",
            "ticks": ""
           },
           "bgcolor": "#E5ECF6",
           "caxis": {
            "gridcolor": "white",
            "linecolor": "white",
            "ticks": ""
           }
          },
          "title": {
           "x": 0.05
          },
          "xaxis": {
           "automargin": true,
           "gridcolor": "white",
           "linecolor": "white",
           "ticks": "",
           "title": {
            "standoff": 15
           },
           "zerolinecolor": "white",
           "zerolinewidth": 2
          },
          "yaxis": {
           "automargin": true,
           "gridcolor": "white",
           "linecolor": "white",
           "ticks": "",
           "title": {
            "standoff": 15
           },
           "zerolinecolor": "white",
           "zerolinewidth": 2
          }
         }
        },
        "title": {
         "x": 0.2
        },
        "width": 1400
       }
      },
      "image/png": "[encoded data removed]",
      "text/html": [
       "<div>\n",
       "        \n",
       "        \n",
       "            <div id=\"d98d9c97-2285-493a-904d-dd6c92cac939\" class=\"plotly-graph-div\" style=\"height:550px; width:1400px;\"></div>\n",
       "            <script type=\"text/javascript\">\n",
       "                require([\"plotly\"], function(Plotly) {\n",
       "                    window.PLOTLYENV=window.PLOTLYENV || {};\n",
       "                    \n",
       "                if (document.getElementById(\"d98d9c97-2285-493a-904d-dd6c92cac939\")) {\n",
       "                    Plotly.newPlot(\n",
       "                        'd98d9c97-2285-493a-904d-dd6c92cac939',\n",
       "                        [{\"domain\": {\"x\": [0.0, 0.45], \"y\": [0.0, 1.0]}, \"hoverinfo\": \"label+percent+name\", \"labels\": [\"Neutro\", \"Pos\", \"Neg\"], \"marker\": {\"colors\": [\"rgb(244, 180, 0)\", \"rgb(66, 133, 244)\", \"rgb(219, 68, 55)\"], \"line\": {\"color\": \"rgb(101,101,101)\", \"width\": 1.5}}, \"name\": \"Ingles\", \"textfont\": {\"size\": 18}, \"textinfo\": \"percent+label\", \"textposition\": \"inside\", \"type\": \"pie\", \"values\": [199, 85, 97]}, {\"domain\": {\"x\": [0.55, 1.0], \"y\": [0.0, 1.0]}, \"hoverinfo\": \"label+percent+name\", \"labels\": [\"Neutro\", \"Pos\", \"Neg\"], \"marker\": {\"colors\": [\"rgb(244, 180, 0)\", \"rgb(66, 133, 244)\", \"rgb(219, 68, 55)\"], \"line\": {\"color\": \"rgb(101,101,101)\", \"width\": 1.5}}, \"name\": \"Portugues\", \"textfont\": {\"size\": 18}, \"textinfo\": \"percent+label\", \"textposition\": \"inside\", \"type\": \"pie\", \"values\": [314, 52, 15]}],\n",
       "                        {\"annotations\": [{\"font\": {\"size\": 16}, \"showarrow\": false, \"text\": \"Ingles\", \"x\": 0.225, \"xanchor\": \"center\", \"xref\": \"paper\", \"y\": 1.0, \"yanchor\": \"bottom\", \"yref\": \"paper\"}, {\"font\": {\"size\": 16}, \"showarrow\": false, \"text\": \"Portugues\", \"x\": 0.775, \"xanchor\": \"center\", \"xref\": \"paper\", \"y\": 1.0, \"yanchor\": \"bottom\", \"yref\": \"paper\"}], \"height\": 550, \"showlegend\": false, \"template\": {\"data\": {\"bar\": [{\"error_x\": {\"color\": \"#2a3f5f\"}, \"error_y\": {\"color\": \"#2a3f5f\"}, \"marker\": {\"line\": {\"color\": \"#E5ECF6\", \"width\": 0.5}}, \"type\": \"bar\"}], \"barpolar\": [{\"marker\": {\"line\": {\"color\": \"#E5ECF6\", \"width\": 0.5}}, \"type\": \"barpolar\"}], \"carpet\": [{\"aaxis\": {\"endlinecolor\": \"#2a3f5f\", \"gridcolor\": \"white\", \"linecolor\": \"white\", \"minorgridcolor\": \"white\", \"startlinecolor\": \"#2a3f5f\"}, \"baxis\": {\"endlinecolor\": \"#2a3f5f\", \"gridcolor\": \"white\", \"linecolor\": \"white\", \"minorgridcolor\": \"white\", \"startlinecolor\": \"#2a3f5f\"}, \"type\": \"carpet\"}], \"choropleth\": [{\"colorbar\": {\"outlinewidth\": 0, \"ticks\": \"\"}, \"type\": \"choropleth\"}], \"contour\": [{\"colorbar\": {\"outlinewidth\": 0, \"ticks\": \"\"}, \"colorscale\": [[0.0, \"#0d0887\"], [0.1111111111111111, \"#46039f\"], [0.2222222222222222, \"#7201a8\"], [0.3333333333333333, \"#9c179e\"], [0.4444444444444444, \"#bd3786\"], [0.5555555555555556, \"#d8576b\"], [0.6666666666666666, \"#ed7953\"], [0.7777777777777778, \"#fb9f3a\"], [0.8888888888888888, \"#fdca26\"], [1.0, \"#f0f921\"]], \"type\": \"contour\"}], \"contourcarpet\": [{\"colorbar\": {\"outlinewidth\": 0, \"ticks\": \"\"}, \"type\": \"contourcarpet\"}], \"heatmap\": [{\"colorbar\": {\"outlinewidth\": 0, \"ticks\": \"\"}, \"colorscale\": [[0.0, \"#0d0887\"], [0.1111111111111111, \"#46039f\"], [0.2222222222222222, \"#7201a8\"], [0.3333333333333333, \"#9c179e\"], [0.4444444444444444, \"#bd3786\"], [0.5555555555555556, \"#d8576b\"], [0.6666666666666666, \"#ed7953\"], [0.7777777777777778, \"#fb9f3a\"], [0.8888888888888888, \"#fdca26\"], [1.0, \"#f0f921\"]], \"type\": \"heatmap\"}], \"heatmapgl\": [{\"colorbar\": {\"outlinewidth\": 0, \"ticks\": \"\"}, \"colorscale\": [[0.0, \"#0d0887\"], [0.1111111111111111, \"#46039f\"], [0.2222222222222222, \"#7201a8\"], [0.3333333333333333, \"#9c179e\"], [0.4444444444444444, \"#bd3786\"], [0.5555555555555556, \"#d8576b\"], [0.6666666666666666, \"#ed7953\"], [0.7777777777777778, \"#fb9f3a\"], [0.8888888888888888, \"#fdca26\"], [1.0, \"#f0f921\"]], \"type\": \"heatmapgl\"}], \"histogram\": [{\"marker\": {\"colorbar\": {\"outlinewidth\": 0, \"ticks\": \"\"}}, \"type\": \"histogram\"}], \"histogram2d\": [{\"colorbar\": {\"outlinewidth\": 0, \"ticks\": \"\"}, \"colorscale\": [[0.0, \"#0d0887\"], [0.1111111111111111, \"#46039f\"], [0.2222222222222222, \"#7201a8\"], [0.3333333333333333, \"#9c179e\"], [0.4444444444444444, \"#bd3786\"], [0.5555555555555556, \"#d8576b\"], [0.6666666666666666, \"#ed7953\"], [0.7777777777777778, \"#fb9f3a\"], [0.8888888888888888, \"#fdca26\"], [1.0, \"#f0f921\"]], \"type\": \"histogram2d\"}], \"histogram2dcontour\": [{\"colorbar\": {\"outlinewidth\": 0, \"ticks\": \"\"}, \"colorscale\": [[0.0, \"#0d0887\"], [0.1111111111111111, \"#46039f\"], [0.2222222222222222, \"#7201a8\"], [0.3333333333333333, \"#9c179e\"], [0.4444444444444444, \"#bd3786\"], [0.5555555555555556, \"#d8576b\"], [0.6666666666666666, \"#ed7953\"], [0.7777777777777778, \"#fb9f3a\"], [0.8888888888888888, \"#fdca26\"], [1.0, \"#f0f921\"]], \"type\": \"histogram2dcontour\"}], \"mesh3d\": [{\"colorbar\": {\"outlinewidth\": 0, \"ticks\": \"\"}, \"type\": \"mesh3d\"}], \"parcoords\": [{\"line\": {\"colorbar\": {\"outlinewidth\": 0, \"ticks\": \"\"}}, \"type\": \"parcoords\"}], \"pie\": [{\"automargin\": true, \"type\": \"pie\"}], \"scatter\": [{\"marker\": {\"colorbar\": {\"outlinewidth\": 0, \"ticks\": \"\"}}, \"type\": \"scatter\"}], \"scatter3d\": [{\"line\": {\"colorbar\": {\"outlinewidth\": 0, \"ticks\": \"\"}}, \"marker\": {\"colorbar\": {\"outlinewidth\": 0, \"ticks\": \"\"}}, \"type\": \"scatter3d\"}], \"scattercarpet\": [{\"marker\": {\"colorbar\": {\"outlinewidth\": 0, \"ticks\": \"\"}}, \"type\": \"scattercarpet\"}], \"scattergeo\": [{\"marker\": {\"colorbar\": {\"outlinewidth\": 0, \"ticks\": \"\"}}, \"type\": \"scattergeo\"}], \"scattergl\": [{\"marker\": {\"colorbar\": {\"outlinewidth\": 0, \"ticks\": \"\"}}, \"type\": \"scattergl\"}], \"scattermapbox\": [{\"marker\": {\"colorbar\": {\"outlinewidth\": 0, \"ticks\": \"\"}}, \"type\": \"scattermapbox\"}], \"scatterpolar\": [{\"marker\": {\"colorbar\": {\"outlinewidth\": 0, \"ticks\": \"\"}}, \"type\": \"scatterpolar\"}], \"scatterpolargl\": [{\"marker\": {\"colorbar\": {\"outlinewidth\": 0, \"ticks\": \"\"}}, \"type\": \"scatterpolargl\"}], \"scatterternary\": [{\"marker\": {\"colorbar\": {\"outlinewidth\": 0, \"ticks\": \"\"}}, \"type\": \"scatterternary\"}], \"surface\": [{\"colorbar\": {\"outlinewidth\": 0, \"ticks\": \"\"}, \"colorscale\": [[0.0, \"#0d0887\"], [0.1111111111111111, \"#46039f\"], [0.2222222222222222, \"#7201a8\"], [0.3333333333333333, \"#9c179e\"], [0.4444444444444444, \"#bd3786\"], [0.5555555555555556, \"#d8576b\"], [0.6666666666666666, \"#ed7953\"], [0.7777777777777778, \"#fb9f3a\"], [0.8888888888888888, \"#fdca26\"], [1.0, \"#f0f921\"]], \"type\": \"surface\"}], \"table\": [{\"cells\": {\"fill\": {\"color\": \"#EBF0F8\"}, \"line\": {\"color\": \"white\"}}, \"header\": {\"fill\": {\"color\": \"#C8D4E3\"}, \"line\": {\"color\": \"white\"}}, \"type\": \"table\"}]}, \"layout\": {\"annotationdefaults\": {\"arrowcolor\": \"#2a3f5f\", \"arrowhead\": 0, \"arrowwidth\": 1}, \"coloraxis\": {\"colorbar\": {\"outlinewidth\": 0, \"ticks\": \"\"}}, \"colorscale\": {\"diverging\": [[0, \"#8e0152\"], [0.1, \"#c51b7d\"], [0.2, \"#de77ae\"], [0.3, \"#f1b6da\"], [0.4, \"#fde0ef\"], [0.5, \"#f7f7f7\"], [0.6, \"#e6f5d0\"], [0.7, \"#b8e186\"], [0.8, \"#7fbc41\"], [0.9, \"#4d9221\"], [1, \"#276419\"]], \"sequential\": [[0.0, \"#0d0887\"], [0.1111111111111111, \"#46039f\"], [0.2222222222222222, \"#7201a8\"], [0.3333333333333333, \"#9c179e\"], [0.4444444444444444, \"#bd3786\"], [0.5555555555555556, \"#d8576b\"], [0.6666666666666666, \"#ed7953\"], [0.7777777777777778, \"#fb9f3a\"], [0.8888888888888888, \"#fdca26\"], [1.0, \"#f0f921\"]], \"sequentialminus\": [[0.0, \"#0d0887\"], [0.1111111111111111, \"#46039f\"], [0.2222222222222222, \"#7201a8\"], [0.3333333333333333, \"#9c179e\"], [0.4444444444444444, \"#bd3786\"], [0.5555555555555556, \"#d8576b\"], [0.6666666666666666, \"#ed7953\"], [0.7777777777777778, \"#fb9f3a\"], [0.8888888888888888, \"#fdca26\"], [1.0, \"#f0f921\"]]}, \"colorway\": [\"#636efa\", \"#EF553B\", \"#00cc96\", \"#ab63fa\", \"#FFA15A\", \"#19d3f3\", \"#FF6692\", \"#B6E880\", \"#FF97FF\", \"#FECB52\"], \"font\": {\"color\": \"#2a3f5f\"}, \"geo\": {\"bgcolor\": \"white\", \"lakecolor\": \"white\", \"landcolor\": \"#E5ECF6\", \"showlakes\": true, \"showland\": true, \"subunitcolor\": \"white\"}, \"hoverlabel\": {\"align\": \"left\"}, \"hovermode\": \"closest\", \"mapbox\": {\"style\": \"light\"}, \"paper_bgcolor\": \"white\", \"plot_bgcolor\": \"#E5ECF6\", \"polar\": {\"angularaxis\": {\"gridcolor\": \"white\", \"linecolor\": \"white\", \"ticks\": \"\"}, \"bgcolor\": \"#E5ECF6\", \"radialaxis\": {\"gridcolor\": \"white\", \"linecolor\": \"white\", \"ticks\": \"\"}}, \"scene\": {\"xaxis\": {\"backgroundcolor\": \"#E5ECF6\", \"gridcolor\": \"white\", \"gridwidth\": 2, \"linecolor\": \"white\", \"showbackground\": true, \"ticks\": \"\", \"zerolinecolor\": \"white\"}, \"yaxis\": {\"backgroundcolor\": \"#E5ECF6\", \"gridcolor\": \"white\", \"gridwidth\": 2, \"linecolor\": \"white\", \"showbackground\": true, \"ticks\": \"\", \"zerolinecolor\": \"white\"}, \"zaxis\": {\"backgroundcolor\": \"#E5ECF6\", \"gridcolor\": \"white\", \"gridwidth\": 2, \"linecolor\": \"white\", \"showbackground\": true, \"ticks\": \"\", \"zerolinecolor\": \"white\"}}, \"shapedefaults\": {\"line\": {\"color\": \"#2a3f5f\"}}, \"ternary\": {\"aaxis\": {\"gridcolor\": \"white\", \"linecolor\": \"white\", \"ticks\": \"\"}, \"baxis\": {\"gridcolor\": \"white\", \"linecolor\": \"white\", \"ticks\": \"\"}, \"bgcolor\": \"#E5ECF6\", \"caxis\": {\"gridcolor\": \"white\", \"linecolor\": \"white\", \"ticks\": \"\"}}, \"title\": {\"x\": 0.05}, \"xaxis\": {\"automargin\": true, \"gridcolor\": \"white\", \"linecolor\": \"white\", \"ticks\": \"\", \"title\": {\"standoff\": 15}, \"zerolinecolor\": \"white\", \"zerolinewidth\": 2}, \"yaxis\": {\"automargin\": true, \"gridcolor\": \"white\", \"linecolor\": \"white\", \"ticks\": \"\", \"title\": {\"standoff\": 15}, \"zerolinecolor\": \"white\", \"zerolinewidth\": 2}}}, \"title\": {\"x\": 0.2}, \"width\": 1400},\n",
       "                        {\"responsive\": true}\n",
       "                    ).then(function(){\n",
       "                            \n",
       "var gd = document.getElementById('d98d9c97-2285-493a-904d-dd6c92cac939');\n",
       "var x = new MutationObserver(function (mutations, observer) {{\n",
       "        var display = window.getComputedStyle(gd).display;\n",
       "        if (!display || display === 'none') {{\n",
       "            console.log([gd, 'removed!']);\n",
       "            Plotly.purge(gd);\n",
       "            observer.disconnect();\n",
       "        }}\n",
       "}});\n",
       "\n",
       "// Listen for the removal of the full notebook cells\n",
       "var notebookContainer = gd.closest('#notebook-container');\n",
       "if (notebookContainer) {{\n",
       "    x.observe(notebookContainer, {childList: true});\n",
       "}}\n",
       "\n",
       "// Listen for the clearing of the current output cell\n",
       "var outputEl = gd.closest('.output');\n",
       "if (outputEl) {{\n",
       "    x.observe(outputEl, {childList: true});\n",
       "}}\n",
       "\n",
       "                        })\n",
       "                };\n",
       "                });\n",
       "            </script>\n",
       "        </div>"
      ]
     },
     "metadata": {},
     "output_type": "display_data"
    }
   ],
   "source": [
    "# Define Labels\n",
    "labels = ['Neutro','Pos', 'Neg']\n",
    "\n",
    "# Define color sets of paintings\n",
    "colors = ['rgb(244, 180, 0)', 'rgb(66, 133, 244)',  'rgb(219, 68, 55)']\n",
    "\n",
    "\n",
    "# Create subplots, using 'domain' type for pie charts\n",
    "specs = [[{'type':'domain'}, {'type':'domain'}]]\n",
    "fig = make_subplots(rows=1, cols=2, specs=specs, subplot_titles=['Ingles', 'Portugues'])\n",
    "\n",
    "# Define pie charts\n",
    "fig.add_trace(go.Pie(labels=labels, values=[neutro1,pos1,neg1], name='Ingles',\n",
    "               marker_colors=colors,hoverinfo='label+percent', \n",
    "               textfont=dict(size=18),\n",
    "               marker=dict(colors=colors, \n",
    "               line=dict(color='rgb(101,101,101)', width=1.5))), 1, 1)\n",
    "\n",
    "fig.add_trace(go.Pie(labels=labels, values=[neutro2,pos2,neg2], name='Portugues',\n",
    "               marker_colors=colors,hoverinfo='label+percent', \n",
    "               textfont=dict(size=18),\n",
    "               marker=dict(colors=colors, \n",
    "               line=dict(color='rgb(101,101,101)', width=1.5))), 1, 2)\n",
    "\n",
    "# Tune layout and hover info\n",
    "fig.update_layout(height=550, width = 1400, title_x=0.2)\n",
    "fig.update_traces(textposition='inside', textinfo='percent+label',hoverinfo='label+percent+name')\n",
    "fig.update(#layout_title_text='% Porcentagem dos Sentimentos por Lingua',\n",
    "           layout_showlegend=False)\n",
    "\n",
    "fig = go.Figure(fig)\n",
    "\n",
    "fig.show()"
   ]
  },
  {
   "cell_type": "markdown",
   "metadata": {},
   "source": [
    "Teoricamente os resultados da análise de sentimentos deveriam ser os mesmos ou muito parecidos pois as informações, opiniões e emoções contidas nos textos analisados apesar de serem em idiomas diferentes são as mesmas. \n",
    "\n",
    "Podemos constatar no entanto que na Língua Inglesa apesar de mais de 50% das análises serem neutras, essa classificação ainda assim se manteve de uma certa maneira balanceada em comparação a Língua Portuguesa que praticamente não obteve respostas negativas e mais de 80% de neutras.\n"
   ]
  },
  {
   "cell_type": "markdown",
   "metadata": {},
   "source": [
    "### Correlacões"
   ]
  },
  {
   "cell_type": "code",
   "execution_count": 596,
   "metadata": {
    "ExecuteTime": {
     "end_time": "2020-01-17T23:30:46.433113Z",
     "start_time": "2020-01-17T23:30:45.392104Z"
    },
    "colab": {},
    "colab_type": "code",
    "id": "fc4DbcymVdsB"
   },
   "outputs": [
    {
     "data": {
      "image/png": "[encoded data removed]",
      "text/plain": [
       "<Figure size 1296x504 with 2 Axes>"
      ]
     },
     "metadata": {
      "needs_background": "light"
     },
     "output_type": "display_data"
    }
   ],
   "source": [
    "# Gerar dataframe de correlações\n",
    "z = amostra.corr()\n",
    "\n",
    "# Plotar heatmap\n",
    "plt.figure(figsize=(18,7))\n",
    "g = sns.heatmap(z, cmap='Blues', linewidths=0.5, annot=True,annot_kws={\"size\": 15})\n",
    "g.set_yticklabels(g.get_yticklabels(), rotation=0, horizontalalignment='right', fontsize='x-large')\n",
    "g.set_xticklabels(g.get_yticklabels(), rotation=45, horizontalalignment='right', fontsize='x-large')"
   ]
  },
  {
   "cell_type": "code",
   "execution_count": 598,
   "metadata": {},
   "outputs": [],
   "source": [
    "figure = g.get_figure()    \n",
    "figure.savefig('heatmap.png', dpi=200)"
   ]
  },
  {
   "cell_type": "markdown",
   "metadata": {},
   "source": [
    "Através do Heatmap podemos constatar uma alta correlação positiva entre magnitudes e tamanho do texto, confirmando a afirmação da GOOGLE de que essas variáveis são proporcionais e de que quanto maior o texto maior a magnitude."
   ]
  },
  {
   "cell_type": "markdown",
   "metadata": {},
   "source": [
    "## Reflexões\n",
    "\n",
    "Seria o idioma Portugues uma Lingua menos negativa e neutra ou que algoritmo do GOOGLE para esse idioma ainda precise passar por refinamentos?"
   ]
  },
  {
   "cell_type": "code",
   "execution_count": null,
   "metadata": {},
   "outputs": [],
   "source": []
  }
 ],
 "metadata": {
  "colab": {
   "collapsed_sections": [],
   "name": "filmes.ipynb",
   "provenance": []
  },
  "kernelspec": {
   "display_name": "Python 3",
   "language": "python",
   "name": "python3"
  },
  "language_info": {
   "codemirror_mode": {
    "name": "ipython",
    "version": 3
   },
   "file_extension": ".py",
   "mimetype": "text/x-python",
   "name": "python",
   "nbconvert_exporter": "python",
   "pygments_lexer": "ipython3",
   "version": "3.7.5"
  }
 },
 "nbformat": 4,
 "nbformat_minor": 4
}
